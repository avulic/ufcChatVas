{
 "cells": [
  {
   "cell_type": "code",
   "execution_count": 1,
   "metadata": {},
   "outputs": [],
   "source": [
    "# Imports and Helper Functions\n",
    "# data Analysis\n",
    "import pandas as pd\n",
    "import numpy as np\n",
    "import random as rng\n",
    "from datetime import datetime\n",
    "\n",
    "# Visualization\n",
    "import seaborn as sns\n",
    "import matplotlib.pyplot as plt\n",
    "%matplotlib inline\n",
    "sns.set_style('darkgrid') \n",
    "\n",
    "from IPython.core.interactiveshell import InteractiveShell\n",
    "InteractiveShell.ast_node_interactivity = \"all\"\n",
    "#InteractiveShell.ast_node_interactivity = \"last_expr\""
   ]
  },
  {
   "cell_type": "code",
   "execution_count": 20,
   "metadata": {},
   "outputs": [],
   "source": [
    "pd.options.display.float_format = '{:,.2f}'.format\n",
    "df = pd.read_csv(\"data.csv\")\n",
    "data = df.copy()"
   ]
  },
  {
   "cell_type": "code",
   "execution_count": null,
   "metadata": {},
   "outputs": [],
   "source": [
    "fighters = pd.read_csv(\"fighters.csv\")\n",
    "categories_data = pd.read_csv(\"categories.csv\")\n",
    "fighter_mean = pd.read_csv(\"fighter_means.csv\")\n",
    "data_edited = pd.read_csv(\"data_edited.csv\")"
   ]
  },
  {
   "cell_type": "code",
   "execution_count": null,
   "metadata": {},
   "outputs": [],
   "source": []
  },
  {
   "cell_type": "code",
   "execution_count": null,
   "metadata": {},
   "outputs": [],
   "source": [
    "data.head()"
   ]
  },
  {
   "cell_type": "code",
   "execution_count": null,
   "metadata": {},
   "outputs": [],
   "source": [
    "data.info()"
   ]
  },
  {
   "cell_type": "code",
   "execution_count": null,
   "metadata": {},
   "outputs": [],
   "source": [
    "data.describe()"
   ]
  },
  {
   "cell_type": "code",
   "execution_count": null,
   "metadata": {},
   "outputs": [],
   "source": [
    "data.describe(include=['object']) "
   ]
  },
  {
   "cell_type": "code",
   "execution_count": 17,
   "metadata": {},
   "outputs": [],
   "source": [
    "#mala slova imena\n",
    "data['R_Name'] = data['R_Name'].str.lower()\n",
    "data['B_Name'] = data['B_Name'].str.lower()"
   ]
  },
  {
   "cell_type": "code",
   "execution_count": null,
   "metadata": {},
   "outputs": [],
   "source": [
    "\n",
    "#nan vrijednosti u winby stupcu\n",
    "no_winby = df[df['winby'].isnull()]\n",
    "print(len(no_winby), \"rows where 'winby' is not set.\")\n",
    "\n",
    "print(df['winner'][df['winner'] == 'no contest'].size, 'no contests')\n",
    "print(df['winner'][df['winner'] == 'draw'].size, 'draws')\n",
    "\n",
    "print(no_winby['winner'][no_winby['winner'] == 'draw'].size, 'draws with an empty \\'winby\\' value')\n",
    "print(no_winby['winner'][no_winby['winner'] == 'no contest'].size, 'no contest with an empty \\'winby\\' value')\n",
    "\n",
    "# set on the original dataset, and recompute `no_winby`\n",
    "df.loc[df['winner'] == 'draw', 'winby'] = 'DRAW'\n",
    "no_winby = df[df['winby'].isnull()]\n",
    "\n",
    "df[['B_Name', 'R_Name', 'Date', 'Last_round', 'winner', 'winby']][(df['winner'] == 'no contest') & (df['winby'].notnull())] # exclude the no-contests with no 'winby'"
   ]
  },
  {
   "cell_type": "code",
   "execution_count": null,
   "metadata": {},
   "outputs": [],
   "source": [
    "#missing values Nan\n",
    "columns_to_fill = data['B_Age', 'B_Height', 'R_Age', 'R_Height']\n",
    "data[columns_to_fill] = data[columns_to_fill].apply(lambda x: x.fillna(x.mean()))\n",
    "\n",
    "data.loc[:, :] = data.fillna(value=0)"
   ]
  },
  {
   "cell_type": "code",
   "execution_count": null,
   "metadata": {},
   "outputs": [],
   "source": [
    "# get names of fighters will missing weights\n",
    "df = data\n",
    "missing_weight_names = pd.concat([df['B_Name'][df['B_Weight'].isnull()], df['R_Name'][df['R_Weight'].isnull()]]).unique()\n",
    "missing_weight_names\n",
    "\n",
    "# fill in with Googled values\n",
    "weights = {\n",
    "    'Lipeng Zhang': 70,\n",
    "    'Antonio Carlos Junior': 84,\n",
    "    'Aleksei Oleinik': 65,\n",
    "    'Cat Zingano': 65,\n",
    "    'Yao Zhikui': 56,\n",
    "    'Jack Marshman': 84,\n",
    "    'Allan Zuniga': 70 \n",
    "}\n",
    "for name in missing_weight_names:\n",
    "    df['B_Weight'][df['B_Name'] == name] = weights[name]\n",
    "    df['R_Weight'][df['R_Name'] == name] = weights[name]"
   ]
  },
  {
   "cell_type": "code",
   "execution_count": null,
   "metadata": {},
   "outputs": [],
   "source": [
    "#ispis kategorija\n",
    "sorted([ weight for weight in pd.concat([data['B_Weight'], data['R_Weight']]).unique() if weight <= 93 ])"
   ]
  },
  {
   "cell_type": "code",
   "execution_count": null,
   "metadata": {},
   "outputs": [],
   "source": [
    "df['B_Weight'][df['B_Weight'] == 76] = 77\n",
    "df['R_Weight'][df['R_Weight'] == 76] = 77"
   ]
  },
  {
   "cell_type": "code",
   "execution_count": null,
   "metadata": {},
   "outputs": [],
   "source": [
    "#ispi borbi s 4 runde\n",
    "data[['B_Name', 'R_Name', 'Last_round']][data['Max_round'] == 4]"
   ]
  },
  {
   "cell_type": "code",
   "execution_count": null,
   "metadata": {},
   "outputs": [],
   "source": [
    "\n",
    "#When I Googled some of these fights, most of the 3-round fights were by decision (as opposed to KO/submission) - \n",
    "#this means that there was no opportunity for a 4th round. Let's replace any Max_round of 4 with a 3 instead\n",
    "\n",
    "# replacing Max_round of 4 to 3 instead\n",
    "data.loc[data['Max_round'] == 4, 'Max_round'] = 3\n",
    "\n",
    "# print to double check\n",
    "print('There are', data['Max_round'][data['Max_round'] == 3].size, 'fights with max 3 rounds')\n",
    "print('There are', data['Max_round'][data['Max_round'] == 4].size, 'fights with max 4 rounds')\n",
    "print('There are', data['Max_round'][data['Max_round'] == 5].size, 'fights with max 5 rounds')"
   ]
  },
  {
   "cell_type": "code",
   "execution_count": null,
   "metadata": {},
   "outputs": [],
   "source": [
    "#There's a max-3-round fight that ends in decision...that had less than 3 rounds?\n",
    "# fight in question\n",
    "df[(df['Max_round'] == 3) & (df['winby'] == 'DEC') & (df['Last_round'] < 3 )]\n",
    "# correct it to 3 (verified using Google)\n",
    "df['Last_round'].iloc[334] = 3\n",
    "print('\"Last_round\" set to', df['Last_round'].iloc[334], 'for the fight:', df['B_Name'].iloc[334], 'vs', df['R_Name'].iloc[334])"
   ]
  },
  {
   "cell_type": "code",
   "execution_count": null,
   "metadata": {},
   "outputs": [],
   "source": [
    "data[['R_Name', 'R_Age', 'Date']][data['R_Name'] == 'jose aldo']\n",
    "\n",
    "# find the date of the last fight\n",
    "#The \"max\" date is in European format, while the majority of the dates are in American \n",
    "data['Date'].max()"
   ]
  },
  {
   "cell_type": "code",
   "execution_count": null,
   "metadata": {},
   "outputs": [],
   "source": [
    "#ispravak format a datuma sve u američki\n",
    "# outliers should bubble to the top or bottom\n",
    "data.sort_values('Date')['Date']"
   ]
  },
  {
   "cell_type": "code",
   "execution_count": null,
   "metadata": {},
   "outputs": [],
   "source": [
    "#ispravak format a datuma sve u američki\n",
    "# outliers should bubble to the top or bottom\n",
    "data.sort_values('Date')['Date']\n",
    "\n",
    "# setting outliers to standard slash format\n",
    "df.at[12, 'Date'] = '02/16/2014'\n",
    "df.at[197, 'Date'] = '06/08/2014'\n",
    "df.at[78, 'Date'] = '06/29/2014'\n",
    "df.at[384, 'Date'] = '10/04/2014'\n",
    "df.at[449, 'Date'] = '11/17/2014'\n",
    "df.at[334, 'Date'] = '12/20/2014'\n",
    "df.at[686, 'Date'] = '05/23/2015'\n",
    "\n",
    "# indicate added column with \"_\" prefix\n",
    "df['_Date_year'] = df['Date'].transform(lambda date: int(date[-4:]))"
   ]
  },
  {
   "cell_type": "code",
   "execution_count": null,
   "metadata": {},
   "outputs": [],
   "source": [
    "# recalculate age\n",
    "# formula: Age - (last_year - fight_year)\n",
    "df['R_Age'] = df['R_Age'] - (df['_Date_year'].max() - df['_Date_year'])\n",
    "df['B_Age'] = df['B_Age'] - (df['_Date_year'].max() - df['_Date_year'])\n",
    "\n",
    "# checking our work\n",
    "df[['R_Name', 'R_Age', 'Date']][df['R_Name'] == 'Jose Aldo']"
   ]
  },
  {
   "cell_type": "code",
   "execution_count": null,
   "metadata": {},
   "outputs": [],
   "source": [
    "df.to_csv('cleaned_data.csv', index = False)"
   ]
  },
  {
   "cell_type": "code",
   "execution_count": null,
   "metadata": {},
   "outputs": [],
   "source": []
  },
  {
   "cell_type": "code",
   "execution_count": null,
   "metadata": {},
   "outputs": [],
   "source": []
  },
  {
   "cell_type": "code",
   "execution_count": 48,
   "metadata": {},
   "outputs": [],
   "source": [
    "data = data.drop(['Event_ID', 'Fight_ID', 'B_Location', 'B_HomeTown', 'B_ID','B_Name', 'R_Location', 'R_HomeTown','R_ID',\n",
    "                    'R_Name','winby','Date', 'BStreak', 'Last_round', 'Max_round'], axis=1)\n",
    "\n",
    "data.rename(columns={'BPrev':'B__Prev',\n",
    "                        'RPrev':'R__Prev',\n",
    "                        'B_Age':'B__Age',\n",
    "                        'B_Height':'B__Height',\n",
    "                        'B_Weight':'B__Weight',\n",
    "                        'R_Age':'R__Age',\n",
    "                        'R_Height':'R__Height',\n",
    "                        'R_Weight':'R__Weight'}, inplace=True)"
   ]
  },
  {
   "cell_type": "code",
   "execution_count": 61,
   "metadata": {},
   "outputs": [],
   "source": [
    "data = data[(data[\"winner\"] == \"red\") | (data[\"winner\"] == \"blue\")]\n",
    "data['winner_code'] = data.winner.replace({'red': 0, 'blue': 1}) \n",
    "dropdata = data.drop('winner', axis=1)\n"
   ]
  },
  {
   "cell_type": "code",
   "execution_count": 10,
   "metadata": {},
   "outputs": [],
   "source": [
    "objecttypes = list(dropdata.select_dtypes(include=['float64']).columns)\n",
    "for col in objecttypes:\n",
    "    dropdata[col] = dropdata[col].astype('float32')\n",
    "\n",
    "dropdata.to_csv('data_edited.csv', index=False)"
   ]
  },
  {
   "cell_type": "code",
   "execution_count": null,
   "metadata": {},
   "outputs": [],
   "source": []
  },
  {
   "cell_type": "code",
   "execution_count": null,
   "metadata": {},
   "outputs": [],
   "source": [
    "names = data[\"B_Name\"].unique()\n",
    "lower_names = [name.lower() for name in names]\n",
    "np.savetxt('fighters.csv', lower_names, delimiter=',', fmt='%s', header='Fighters', comments='')"
   ]
  },
  {
   "cell_type": "code",
   "execution_count": null,
   "metadata": {},
   "outputs": [],
   "source": [
    "objecttypes = list(combined_all.select_dtypes(include=['float64']).columns)\n",
    "for col in objecttypes:\n",
    "    combined_all[col] = combined_all[col].astype('float32')\n",
    "\n",
    "combined_all.to_csv('fighter_means.csv', index=False, header=True)"
   ]
  },
  {
   "cell_type": "code",
   "execution_count": null,
   "metadata": {},
   "outputs": [],
   "source": [
    "data_mean = data.drop(['Event_ID', 'Fight_ID', 'B_Location', 'B_HomeTown', 'B_ID', 'R_Location', 'R_HomeTown','R_ID','winby','Date', 'BStreak', 'winner', 'Last_round', 'Max_round'], axis=1)\n",
    "data_mean.rename(columns={'BPrev':'B__Prev',\n",
    "                        'RPrev':'R__Prev',\n",
    "                        'B_Age':'B__Age',\n",
    "                        'B_Height':'B__Height',\n",
    "                        'B_Weight':'B__Weight',\n",
    "                        'R_Age':'R__Age',\n",
    "                        'R_Height':'R__Height',\n",
    "                        'R_Weight':'R__Weight',\n",
    "                        'B_Name': 'B__Name',\n",
    "                        'R_Name': 'R__Name'}, inplace=True)\n",
    "\n",
    "combined_all = pd.DataFrame()\n",
    "\n",
    "for i, name in enumerate(fighters['Fighters']):\n",
    "    conor = data_mean.loc[ (data_mean['B__Name'] == name)]\n",
    "    filtered_columns = conor.filter(regex='^R', axis=1)\n",
    "    conorB = conor.drop(filtered_columns.columns, axis=1)\n",
    "\n",
    "    new_columns = {col: col.replace(\"B__\", \"\") for col in conorB.columns if col.startswith(\"B__\")}\n",
    "    conorB = conorB.rename(columns=new_columns)\n",
    "    conorB = conorB.drop(\"Name\", axis=1)\n",
    "\n",
    "    conor = data_mean.loc[ (data_mean['R__Name'] == name)]\n",
    "    filtered_columns = conor.filter(regex='^B', axis=1)\n",
    "    conorR = conor.drop(filtered_columns.columns, axis=1)\n",
    "\n",
    "    new_columns = {col: col.replace(\"R__\", \"\") for col in conorR.columns if col.startswith(\"R__\")}\n",
    "    conorR = conorR.rename(columns=new_columns)\n",
    "    conorR = conorR.drop(\"Name\", axis=1)\n",
    "    # conorR['Last_round'] = conorR.pop('Last_round')\n",
    "    # conorR['Max_round'] = conorR.pop('Max_round')\n",
    "    combined_df = pd.concat([conorR, conorB], ignore_index=True)\n",
    "    combined_df = combined_df.mean().to_frame().transpose()\n",
    "\n",
    "    combined_df['Name'] = name\n",
    "    combined_all = pd.concat([combined_all, combined_df], ignore_index=True)"
   ]
  },
  {
   "cell_type": "code",
   "execution_count": null,
   "metadata": {},
   "outputs": [],
   "source": [
    "df.to_csv('cleaned_data.csv', index = False)"
   ]
  },
  {
   "cell_type": "code",
   "execution_count": null,
   "metadata": {},
   "outputs": [],
   "source": []
  },
  {
   "cell_type": "code",
   "execution_count": null,
   "metadata": {},
   "outputs": [],
   "source": []
  },
  {
   "cell_type": "code",
   "execution_count": null,
   "metadata": {},
   "outputs": [],
   "source": []
  },
  {
   "cell_type": "code",
   "execution_count": null,
   "metadata": {},
   "outputs": [],
   "source": []
  },
  {
   "cell_type": "code",
   "execution_count": null,
   "metadata": {},
   "outputs": [],
   "source": []
  },
  {
   "cell_type": "code",
   "execution_count": null,
   "metadata": {},
   "outputs": [],
   "source": []
  },
  {
   "cell_type": "code",
   "execution_count": null,
   "metadata": {},
   "outputs": [],
   "source": []
  },
  {
   "cell_type": "code",
   "execution_count": null,
   "metadata": {},
   "outputs": [],
   "source": []
  },
  {
   "cell_type": "code",
   "execution_count": null,
   "metadata": {},
   "outputs": [],
   "source": [
    "#data_hist = data.iloc[:, :5].hist(figsize=(10,10), xrot=-45)\n",
    "data_hist = data.iloc[:, :10]\n",
    "#sns.histplot(data=data_hist, element='step')\n",
    "\n",
    "# # Customize the legend\n",
    "# legend_labels = ['Group A', 'Group B with a long name']\n",
    "\n",
    "\n",
    "# plt.legend(legend_labels, title='Groups')\n",
    "# # Adjust the aesthetics of the legend\n",
    "# legend = plt.gca().get_legend()\n",
    "# plt.setp(legend.get_title(), fontsize='14', fontweight='bold')\n",
    "# plt.setp(legend.get_texts(), fontsize='12')\n",
    "\n",
    "for column in data_hist.columns:\n",
    "    column_values = data_hist[column].astype(str)\n",
    "    # Create a new plot for each variable\n",
    "    sns.histplot(data=column_values)\n",
    "\n",
    "    plt.title(column)  # Set the title of the plot as the variable name\n",
    "    plt.xlabel('Value')  # Set the x-axis label\n",
    "    plt.xticks(rotation='vertical')  # Adjust the rotation angle as needed\n",
    "    plt.ylabel('Frequency')  # Set the y-axis label\n",
    "    plt.show();  # Display the plot\n",
    "\n",
    "#plt.show()\n"
   ]
  },
  {
   "cell_type": "code",
   "execution_count": null,
   "metadata": {},
   "outputs": [],
   "source": []
  },
  {
   "cell_type": "code",
   "execution_count": null,
   "metadata": {},
   "outputs": [],
   "source": [
    "df = {  'Name': data['B_Location'].value_counts().head(15).index, \n",
    "        'Count': data['B_Location'].value_counts().head(15).values}\n",
    "df = pd.DataFrame(df)\n",
    "sns.barplot(data=df, y='Name', x='Count')\n",
    "plt.show() "
   ]
  },
  {
   "cell_type": "code",
   "execution_count": null,
   "metadata": {},
   "outputs": [],
   "source": [
    "sns.countplot(y='winner', data=data) \n",
    "plt.show() \n"
   ]
  },
  {
   "cell_type": "code",
   "execution_count": null,
   "metadata": {},
   "outputs": [],
   "source": [
    "sns.countplot(y='winner_code', data=data) \n",
    "plt.show() "
   ]
  },
  {
   "cell_type": "code",
   "execution_count": null,
   "metadata": {},
   "outputs": [],
   "source": [
    "data = data[(data[\"winner\"] == \"red\") | (data[\"winner\"] == \"blue\")]"
   ]
  },
  {
   "cell_type": "code",
   "execution_count": null,
   "metadata": {},
   "outputs": [],
   "source": [
    "#for feature in data.dtypes[data.dtypes == 'object'].index: \n",
    "sns.countplot(y='R__Weight', data=dropdata) \n",
    "plt.show() \n",
    "sns.countplot(y='B__Weight', data=dropdata) \n",
    "plt.show() "
   ]
  },
  {
   "cell_type": "code",
   "execution_count": null,
   "metadata": {},
   "outputs": [],
   "source": [
    "#Basic Correlation Matrix\n",
    "corrmat = dropdata.corr()\n",
    "f, ax = plt.subplots(figsize=(12, 9))\n",
    "sns.heatmap(corrmat, vmax=.8, square=True)"
   ]
  },
  {
   "cell_type": "code",
   "execution_count": null,
   "metadata": {},
   "outputs": [],
   "source": [
    "# Subset Correlation Matrix\n",
    "k = 10 #number of variables for heatmap\n",
    "corrmat = dropdata.corr()\n",
    "cols = corrmat.nlargest(k, 'winner')['winner'].index\n",
    "cm = np.corrcoef(dropdata[cols].values.T)\n",
    "sns.set(font_scale=1.25)\n",
    "hm = sns.heatmap(cm, cbar=True, annot=True, square=True, fmt='.2f', annot_kws={'size': 10}, yticklabels=cols.values, xticklabels=cols.values)\n",
    "plt.show()"
   ]
  },
  {
   "cell_type": "code",
   "execution_count": null,
   "metadata": {},
   "outputs": [],
   "source": [
    "sns.lmplot(x=\"B__Round3_Strikes_Body Significant Strikes_Attempts\", \n",
    "            y=\"B__Round3_Strikes_Body Significant Strikes_Landed\", \n",
    "            col=\"winner\", hue=\"winner\", data=data, col_wrap=2)"
   ]
  }
 ],
 "metadata": {
  "kernelspec": {
   "display_name": "Python 3 (ipykernel)",
   "language": "python",
   "name": "python3"
  },
  "orig_nbformat": 4,
  "vscode": {
   "interpreter": {
    "hash": "2a6af1aa4dddc4b70d90ebbae612199da6182abeea02c55c7c8ac111d317351a"
   }
  }
 },
 "nbformat": 4,
 "nbformat_minor": 2
}
