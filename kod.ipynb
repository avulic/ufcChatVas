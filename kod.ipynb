{
 "cells": [
  {
   "cell_type": "code",
   "execution_count": 2,
   "metadata": {},
   "outputs": [],
   "source": [
    "# Imports and Helper Functions\n",
    "# data Analysis\n",
    "import pandas as pd\n",
    "import numpy as np\n",
    "import random as rng\n",
    "from datetime import datetime\n",
    "\n",
    "# Visualization\n",
    "import seaborn as sns\n",
    "import matplotlib.pyplot as plt\n",
    "%matplotlib inline\n",
    "sns.set_style('darkgrid') \n",
    "\n",
    "from IPython.core.interactiveshell import InteractiveShell\n",
    "InteractiveShell.ast_node_interactivity = \"all\"\n",
    "#InteractiveShell.ast_node_interactivity = \"last_expr\""
   ]
  },
  {
   "cell_type": "code",
   "execution_count": 10,
   "metadata": {},
   "outputs": [],
   "source": [
    "pd.options.display.float_format = '{:,.2f}'.format\n",
    "raw_data = pd.read_csv(\"data/data.csv\")\n",
    "data = raw_data.copy(True)"
   ]
  },
  {
   "cell_type": "code",
   "execution_count": 5,
   "metadata": {},
   "outputs": [],
   "source": [
    "fighters = pd.read_csv(\"data/fighters.csv\")\n",
    "categories_data = pd.read_csv(\"data/categories.csv\")\n",
    "fighter_mean = pd.read_csv(\"data/fighter_means.csv\")\n",
    "data_edited = pd.read_csv(\"data/data_edited.csv\")\n",
    "data_cleaned = pd.read_csv(\"data/cleaned_data.csv\")"
   ]
  },
  {
   "cell_type": "code",
   "execution_count": 33,
   "metadata": {},
   "outputs": [
    {
     "data": {
      "text/html": [
       "<div>\n",
       "<style scoped>\n",
       "    .dataframe tbody tr th:only-of-type {\n",
       "        vertical-align: middle;\n",
       "    }\n",
       "\n",
       "    .dataframe tbody tr th {\n",
       "        vertical-align: top;\n",
       "    }\n",
       "\n",
       "    .dataframe thead th {\n",
       "        text-align: right;\n",
       "    }\n",
       "</style>\n",
       "<table border=\"1\" class=\"dataframe\">\n",
       "  <thead>\n",
       "    <tr style=\"text-align: right;\">\n",
       "      <th></th>\n",
       "      <th>B__Name</th>\n",
       "      <th>R__Name</th>\n",
       "      <th>Winner</th>\n",
       "    </tr>\n",
       "  </thead>\n",
       "  <tbody>\n",
       "    <tr>\n",
       "      <th>count</th>\n",
       "      <td>2293</td>\n",
       "      <td>2293</td>\n",
       "      <td>2293</td>\n",
       "    </tr>\n",
       "    <tr>\n",
       "      <th>unique</th>\n",
       "      <td>946</td>\n",
       "      <td>835</td>\n",
       "      <td>2</td>\n",
       "    </tr>\n",
       "    <tr>\n",
       "      <th>top</th>\n",
       "      <td>kevin lee</td>\n",
       "      <td>donald cerrone</td>\n",
       "      <td>red</td>\n",
       "    </tr>\n",
       "    <tr>\n",
       "      <th>freq</th>\n",
       "      <td>11</td>\n",
       "      <td>14</td>\n",
       "      <td>1335</td>\n",
       "    </tr>\n",
       "  </tbody>\n",
       "</table>\n",
       "</div>"
      ],
      "text/plain": [
       "          B__Name         R__Name Winner\n",
       "count        2293            2293   2293\n",
       "unique        946             835      2\n",
       "top     kevin lee  donald cerrone    red\n",
       "freq           11              14   1335"
      ]
     },
     "execution_count": 33,
     "metadata": {},
     "output_type": "execute_result"
    }
   ],
   "source": [
    "\n"
   ]
  },
  {
   "cell_type": "code",
   "execution_count": null,
   "metadata": {},
   "outputs": [],
   "source": [
    "data.head()"
   ]
  },
  {
   "cell_type": "code",
   "execution_count": null,
   "metadata": {},
   "outputs": [],
   "source": [
    "data.info()"
   ]
  },
  {
   "cell_type": "code",
   "execution_count": null,
   "metadata": {},
   "outputs": [],
   "source": [
    "data.describe()"
   ]
  },
  {
   "cell_type": "code",
   "execution_count": null,
   "metadata": {},
   "outputs": [],
   "source": [
    "data.describe(include=['object']) "
   ]
  },
  {
   "cell_type": "code",
   "execution_count": 11,
   "metadata": {},
   "outputs": [],
   "source": [
    "#mala slova imena\n",
    "data['R_Name'] = data['R_Name'].str.lower()\n",
    "data['B_Name'] = data['B_Name'].str.lower()"
   ]
  },
  {
   "cell_type": "code",
   "execution_count": null,
   "metadata": {},
   "outputs": [],
   "source": [
    "\n",
    "#nan vrijednosti u winby stupcu\n",
    "no_winby = data[data['winby'].isnull()]\n",
    "print(len(no_winby), \"rows where 'winby' is not set.\")\n",
    "\n",
    "#First thought is maybe draws and no-contests don't populate this column.\n",
    "print(data['winner'][data['winner'] == 'no contest'].size, 'no contests')\n",
    "print(data['winner'][data['winner'] == 'draw'].size, 'draws')\n",
    "\n",
    "print(no_winby['winner'][no_winby['winner'] == 'draw'].size, 'draws with an empty \\'winby\\' value')\n",
    "print(no_winby['winner'][no_winby['winner'] == 'no contest'].size, 'no contest with an empty \\'winby\\' value')\n",
    "\n",
    "#every draw counts for an empty winby, but not every \"no contest\". Let's set all the draws to a new win type - \"DRAW\"\n",
    "data.loc[data['winner'] == 'draw', 'winby'] = 'DRAW'\n",
    "no_winby = data[data['winby'].isnull()]\n",
    "\n",
    "# remaining no-contests -  gives the context  to deal with the no-contests with a missing \"winby\"\n",
    "data[['B_Name', 'R_Name', 'Date', 'Last_round', 'winner', 'winby']][(data['winner'] == 'no contest') & (data['winby'].notnull())] \n",
    "\n",
    "#After Googling these, turns out the majority  are from wins being overturned by failed drug test results.\n",
    "# deciding to overwrite the \"winner\" column here with the original winner\n",
    "\n",
    "b = 'blue'\n",
    "r = 'red'\n",
    "\n",
    "data.at[40, 'winner'] = b\n",
    "data.at[70, 'winner'] = r\n",
    "data.at[234, 'winner'] = r\n",
    "data.at[255, 'winner'] = r\n",
    "data.at[301, 'winner'] = b\n",
    "data.at[403, 'winner'] = r\n",
    "data.at[428, 'winner'] = r\n",
    "data.at[513, 'winner'] = r\n",
    "data.at[628, 'winner'] = r\n",
    "data.at[734, 'winner'] = r\n",
    "data.at[894, 'winby'] = np.NaN\n",
    "data.at[1179, 'winner'] = r\n",
    "data.at[1389, 'winner'] = b\n",
    "data.at[1473, 'winner'] = b\n",
    "data.at[1475, 'winner'] = b\n",
    "data.at[1522, 'winner'] = b\n",
    "data.at[1664, 'winner'] = b\n",
    "data.at[1764, 'winner'] = b\n",
    "\n",
    "# recompute no_winby\n",
    "no_winby = data[data['winby'].isnull()]\n",
    "\n",
    "\n",
    "#Now let's look at the remaining matches, in more granular detail.\n",
    "# extract any column that would help with Googling the match\n",
    "no_winby[['B_Name', 'R_Name', 'Date', 'Last_round', 'winner']]\n",
    "\n",
    "#After Googling each of these fights, added two new values for \"winby\", \"DQ\" for disqualifications and \"NC\" for no-contests ( this won't be applied to wins that were overturned to become no-contests, as explained above).\n",
    "s = 'SUB'\n",
    "d = 'DEC'\n",
    "k = 'KO/TKO'\n",
    "\n",
    "data.at[36, 'winby'] = s # Omari Akhmedov\tGunnar Nelson: SUB\n",
    "data.at[170, 'winby'] = s # Johnny Bedataord\tRani Yahya: head bump NC\n",
    "data.at[177, 'winby'] = d # Rashid Magomedov vs Rodrigo Damm: DEC\n",
    "data.at[364, 'winby'] = d # Efrain Escudero\tLeonardo Santos: DEC\n",
    "data.at[1803, 'winby'] = k # Gilbert Burns\tJason Saggo: KO/TKO\n",
    "data.at[2234, 'winby'] = d # Liu Pingyuan\tDamian Stasiak: DEC\n",
    "data.at[2286, 'winby'] = d # Joey Gomez\tKevin Aguilar: DEC\n",
    "data.at[2287, 'winby'] = k # Alton Cunningham\tBevon Lewis: KO/TKO\n",
    "data.at[2288, 'winby'] = d # Ricky Palacios\tToby Misech: DEC\n",
    "data.at[2289, 'winby'] = k # Rilley Dutro\tJordan Espinosa: KO/TKO\n",
    "data.at[2290, 'winby'] = k # Jamie Colleen\tMaycee Barber: KO/TKO\n",
    "data.at[2291, 'winby'] = s # Dom Pilarte\tVincent Morales: SUB\n",
    "data.at[2292, 'winby'] = k # Josh Appelt\tJeff Hughes: KO/TKO\n",
    "\n",
    "no_winby[['B_Name', 'R_Name', 'Date', 'Last_round', 'winner', 'winby']]\n"
   ]
  },
  {
   "cell_type": "code",
   "execution_count": 13,
   "metadata": {},
   "outputs": [],
   "source": [
    "#------Drop Nan from winby(DC,NC)--------------\n",
    "data = data.dropna(subset=['winby'])"
   ]
  },
  {
   "cell_type": "code",
   "execution_count": null,
   "metadata": {},
   "outputs": [],
   "source": []
  },
  {
   "cell_type": "code",
   "execution_count": null,
   "metadata": {},
   "outputs": [],
   "source": [
    "#Wrong rounds\n",
    "#There's a max-3-round fight that ends in decision...that had less than 3 rounds?\n",
    "# fight in question\n",
    "data[(data['Max_round'] == 3) & (data['winby'] == 'DEC') & (data['Last_round'] < 3 )]"
   ]
  },
  {
   "cell_type": "code",
   "execution_count": null,
   "metadata": {},
   "outputs": [],
   "source": [
    "# correct it to 3 (verified using Google)\n",
    "data.loc[334, 'Last_round'] = 3\n",
    "print('\"Last_round\" set to', data.loc[334, 'Last_round'], 'for the fight:', data.loc[334, 'B_Name'], 'vs', data.loc[334, 'R_Name'])"
   ]
  },
  {
   "cell_type": "code",
   "execution_count": 16,
   "metadata": {},
   "outputs": [],
   "source": [
    "#Weight: static and missing values\n",
    "#\"Looks like there are some null values, let's see if we can fill those in.\n",
    "# get names of fighters will missing weights\n",
    "missing_weight_names = pd.concat([data['B_Name'][data['B_Weight'].isnull()], data['R_Name'][data['R_Weight'].isnull()]]).unique()\n",
    "\n",
    "# fill in with Googled values\n",
    "weights = {\n",
    "    'lipeng zhang': 70,\n",
    "    'antonio carlos junior': 84,\n",
    "    'aleksei oleinik': 65,\n",
    "    'cat zingano': 65,\n",
    "    'yao zhikui': 56,\n",
    "    'jack marshman': 84,\n",
    "    'allan zuniga': 70 \n",
    "}\n",
    "\n",
    "missing_weight_names = pd.concat([data['B_Name'][data['B_Weight'].isnull()], data['R_Name'][data['R_Weight'].isnull()]]).unique()\n",
    "\n",
    "for name in missing_weight_names:\n",
    "    data.loc[data['B_Name'] == name, 'B_Weight'] = weights[name]\n",
    "    data.loc[data['R_Name'] == name, 'R_Weight'] = weights[name]\n"
   ]
  },
  {
   "cell_type": "code",
   "execution_count": 17,
   "metadata": {},
   "outputs": [
    {
     "data": {
      "text/plain": [
       "[52.0, 56.0, 61.0, 65.0, 70.0, 76.0, 77.0, 84.0, 93.0]"
      ]
     },
     "execution_count": 17,
     "metadata": {},
     "output_type": "execute_result"
    }
   ],
   "source": [
    "#ispis kategorija\n",
    "sorted([ weight for weight in pd.concat([data['B_Weight'], data['R_Weight']]).unique() if weight <= 93 ])"
   ]
  },
  {
   "cell_type": "code",
   "execution_count": 18,
   "metadata": {},
   "outputs": [],
   "source": [
    "#76 is abnormal, as 77 is representative of the middeweight class. Let's set it to 77.\n",
    "data.loc[data['B_Weight'] == 76, 'B_Weight'] = 77\n",
    "data.loc[data['R_Weight'] == 76, 'R_Weight'] = 77"
   ]
  },
  {
   "cell_type": "code",
   "execution_count": null,
   "metadata": {},
   "outputs": [],
   "source": [
    "#ispi borbi s 4 runde, Let's try to figure out why some fights have \"Max_round\" set to 4\n",
    "data[['B_Name', 'R_Name', 'Last_round', 'Max_round']][data['Max_round'] == 4]"
   ]
  },
  {
   "cell_type": "code",
   "execution_count": null,
   "metadata": {},
   "outputs": [],
   "source": [
    "\n",
    "#aftere googling fight, replacing Max_round of 4 to 3 instead\n",
    "data.loc[data['Max_round'] == 4, 'Max_round'] = 3\n",
    "\n",
    "# print to double check\n",
    "print('There are', data['Max_round'][data['Max_round'] == 3].size, 'fights with max 3 rounds')\n",
    "print('There are', data['Max_round'][data['Max_round'] == 4].size, 'fights with max 4 rounds')\n",
    "print('There are', data['Max_round'][data['Max_round'] == 5].size, 'fights with max 5 rounds')"
   ]
  },
  {
   "cell_type": "code",
   "execution_count": null,
   "metadata": {},
   "outputs": [],
   "source": [
    "#There's a max-3-round fight that ends in decision...that had less than 3 rounds?\n",
    "# fight in question\n",
    "data[(data['Max_round'] == 3) & (data['winby'] == 'DEC') & (data['Last_round'] < 3 )][['B_Name', 'R_Name', 'Max_round','winby','Last_round']]\n",
    "# correct it to 3 (verified using Google)\n",
    "data.loc[334, 'Last_round'] = 3\n",
    "print('\"Last_round\" set to', data['Last_round'].iloc[334], 'for the fight:', data['B_Name'].iloc[334], 'vs', data['R_Name'].iloc[334])"
   ]
  },
  {
   "cell_type": "code",
   "execution_count": null,
   "metadata": {},
   "outputs": [],
   "source": [
    "#As you can see above, one of these must be true:\n",
    "#the Age field represents the fighter's age at the time of dataset creation, not at the time of the fight.\n",
    "#Jose Aldo is a time lord...\n",
    "#Since we'll be exploring age later, let's adjust this column to reflect age at time of fight. We'll do this by taking the fighter's age and subtract the time difference between the fight's date and the last fight in the dataset. We'll leave it as an integer, for discrete grouping.\n",
    "data[['R_Name', 'R_Age', 'Date']][data['R_Name'] == 'conor mcgregor']\n",
    "\n",
    "# find the date of the last fight \n",
    "data['Date'].max()"
   ]
  },
  {
   "cell_type": "code",
   "execution_count": null,
   "metadata": {},
   "outputs": [],
   "source": [
    "#The \"max\" date is in European format, while the majority of the dates are in American format. \n",
    "# outliers should bubble to the top or bottom\n",
    "data.sort_values('Date')['Date'].tail(20)"
   ]
  },
  {
   "cell_type": "code",
   "execution_count": 24,
   "metadata": {},
   "outputs": [],
   "source": [
    "# setting outliers to standard slash format\n",
    "data.at[12, 'Date'] = '02/16/2014'\n",
    "data.at[197, 'Date'] = '06/08/2014'\n",
    "data.at[78, 'Date'] = '06/29/2014'\n",
    "data.at[384, 'Date'] = '10/04/2014'\n",
    "data.at[449, 'Date'] = '11/17/2014'\n",
    "data.at[334, 'Date'] = '12/20/2014'\n",
    "data.at[686, 'Date'] = '05/23/2015'\n",
    "data.at[1032, 'Date'] = '02/21/2016'\n",
    "data.at[415, 'Date'] = '07/22/2018'\n",
    "data.at[853, 'Date'] = '10/24/2015'\n",
    "\n",
    "# indicate added column with \"_\" prefix\n",
    "data['_Date_year'] = data['Date'].transform(lambda data: int(data[-4:]))"
   ]
  },
  {
   "cell_type": "code",
   "execution_count": null,
   "metadata": {},
   "outputs": [],
   "source": [
    "# recalculate age\n",
    "# formula: Age - (last_year - fight_year)\n",
    "data['R_Age'] = data['R_Age'] - (data['_Date_year'].max() - data['_Date_year'])\n",
    "data['B_Age'] = data['B_Age'] - (data['_Date_year'].max() - data['_Date_year'])\n",
    "\n",
    "# checking\n",
    "data[['R_Name', 'R_Age', 'Date']][data['R_Name'] == 'lipeng zhang']\n"
   ]
  },
  {
   "cell_type": "code",
   "execution_count": 26,
   "metadata": {},
   "outputs": [],
   "source": [
    "#------------------------------------replace Nan from Age, replace Nan from Height, ostalo NaN fill 0\n",
    "columns_to_fill = ['B_Age', 'R_Age', 'B_Height', 'R_Height']\n",
    "data[columns_to_fill] = data[columns_to_fill].apply(lambda x: x.fillna(x.mean()).round().astype(int))\n",
    "\n",
    "data.loc[:, :] = data.fillna(value=0)\n",
    "\n",
    "string_to_remove = \"draw\"\n",
    "data = data[data[\"winner\"] != string_to_remove]\n",
    "string_to_remove = \"no contest\"\n",
    "data = data[data[\"winner\"] != string_to_remove]"
   ]
  },
  {
   "cell_type": "code",
   "execution_count": 27,
   "metadata": {},
   "outputs": [],
   "source": [
    "data.to_csv('data/cleaned_data.csv', index=False)"
   ]
  },
  {
   "cell_type": "code",
   "execution_count": null,
   "metadata": {},
   "outputs": [],
   "source": []
  },
  {
   "cell_type": "code",
   "execution_count": 83,
   "metadata": {},
   "outputs": [],
   "source": [
    "#---------------------Feature engenering\n",
    "data_source = pd.read_csv(\"data/cleaned_data.csv\")\n",
    "\n",
    "\n",
    "\n",
    "dropdata = data_source.drop(['Event_ID', 'Fight_ID', 'B_Location', 'B_HomeTown', 'B_ID', 'R_Location', 'R_HomeTown', 'R_ID',\n",
    "                             'Date', 'Last_round', '_Date_year', 'winby'], axis=1)\n",
    "\n",
    "dropdata.rename(columns={'BPrev':'B__Prev',\n",
    "                        'RPrev':'R__Prev',\n",
    "                        'B_Name':'B__Name',\n",
    "                        'B_Age':'B__Age',\n",
    "                        'B_Height':'B__Height',\n",
    "                        'B_Weight':'B__Weight',\n",
    "                        'BStreak':'B__Streak',\n",
    "                        'R_Name':'R__Name',\n",
    "                        'R_Age':'R__Age',\n",
    "                        'R_Height':'R__Height',\n",
    "                        'R_Weight':'R__Weight',                       \n",
    "                        #'Winby':'Winby',\n",
    "                        'Max_round':'Max_round',\n",
    "                        'winner':'Winner'}, inplace=True)\n",
    "\n",
    "#--------------------------------Calculate RStreak---------------------\n",
    "fighter_streaks = {}  # Dictionary to store fighter streaks\n",
    "df = dropdata\n",
    "winStyle = {}\n",
    "\n",
    "for index, row in df.iterrows():\n",
    "    blue_fighter = row['B__Name']\n",
    "    red_fighter = row['R__Name']\n",
    "    winner = row['Winner']\n",
    "    #winby = row['winby']\n",
    "\n",
    "    if blue_fighter not in fighter_streaks:\n",
    "        fighter_streaks[blue_fighter] = 0\n",
    "    if red_fighter not in fighter_streaks:\n",
    "        fighter_streaks[red_fighter] = 0\n",
    "\n",
    "    # if blue_fighter not in winStyle:\n",
    "    #     winStyle[blue_fighter] = {'TKO': 0, 'SUB': 0, 'DEC': 0}\n",
    "    # if red_fighter not in winStyle:\n",
    "    #     winStyle[red_fighter] = {'TKO': 0, 'SUB': 0, 'DEC': 0}\n",
    "\n",
    "\n",
    "    df.at[index, 'B__Streak'] = int(fighter_streaks[blue_fighter])\n",
    "    df.at[index, 'R__Streak'] = int(fighter_streaks[red_fighter])\n",
    "\n",
    "    if winner == \"blue\":\n",
    "        fighter_streaks[blue_fighter] += 1\n",
    "        fighter_streaks[red_fighter] = 0\n",
    "\n",
    "        # if winby == 'KO/TKO':\n",
    "        #     winStyle[blue_fighter]['TKO'] += 1\n",
    "        # if winby == 'SUB':\n",
    "        #     winStyle[blue_fighter]['SUB'] += 1\n",
    "        # if winby == 'DEC':\n",
    "        #     winStyle[blue_fighter]['DEC'] += 1\n",
    "\n",
    "\n",
    "    else:\n",
    "        fighter_streaks[red_fighter] += 1\n",
    "        fighter_streaks[blue_fighter] = 0\n",
    "\n",
    "        # if winby == 'KO/TKO':\n",
    "        #     winStyle[blue_fighter]['TKO'] += 1\n",
    "        # if winby == 'SUB':\n",
    "        #     winStyle[blue_fighter]['SUB'] += 1\n",
    "        # if winby == 'DEC':\n",
    "        #     winStyle[blue_fighter]['DEC'] += 1\n",
    "\n",
    "\n",
    "    # Com_Winning_Style_B = max(winStyle[blue_fighter], key=winStyle[blue_fighter].get)\n",
    "    # Com_Winning_Style_R = max(winStyle[red_fighter], key=winStyle[red_fighter].get)\n",
    "    \n",
    "    # df.at[index, 'Com_Winning_Style_B'] = Com_Winning_Style_B  \n",
    "    # df.at[index, 'Com_Winning_Style_R'] = Com_Winning_Style_R  \n",
    "   \n",
    "\n",
    "df.to_csv('data/data_edited.csv', index=False)"
   ]
  },
  {
   "cell_type": "code",
   "execution_count": null,
   "metadata": {},
   "outputs": [],
   "source": []
  },
  {
   "cell_type": "code",
   "execution_count": 84,
   "metadata": {},
   "outputs": [],
   "source": [
    "#------------------------------- Feature Engineering -------------------------------\n",
    "# Load the dataset\n",
    "data_source = pd.read_csv(\"data/data_edited.csv\")\n",
    "\n",
    "objecttypes = list(data_source.select_dtypes(include=['float64']).columns)\n",
    "for col in objecttypes:\n",
    "    data_source[col] = data_source[col].astype('float32')\n",
    "\n",
    "#------------------------------- Feature Engineering -------------------------------\n",
    "rounds = [\"Round1\", \"Round2\", \"Round3\", \"Round4\", \"Round5\"]\n",
    "for round_num in rounds:\n",
    "    # 1. Efficiency Metrics\n",
    "\n",
    "    # Striking Efficiency for Blue fighter\n",
    "    strike_land_col_b = f'B__{round_num}_Strikes_Significant Strikes_Landed'\n",
    "    strike_attempt_col_b = f'B__{round_num}_Strikes_Significant Strikes_Attempts'\n",
    "    #data_source[f'B__{round_num}_Striking_Eff'] = np.where(data_source[grap_attempt_col_b] != 0, \n",
    "    #                                                   data_source[strike_land_col_b] / data_source[strike_attempt_col_b], \n",
    "    #                                                   0)\n",
    "    \n",
    "    grap_land_col_b = f'B__{round_num}_Grappling_Takedowns_Landed'\n",
    "    grap_attempt_col_b = f'B__{round_num}_Grappling_Takedowns_Attempts'\n",
    "    #data_source[f'B__{round_num}_Grappling_Eff'] = np.where(data_source[grap_attempt_col_b] != 0, \n",
    "    #                                                   data_source[grap_land_col_b] / data_source[grap_attempt_col_b], \n",
    "    #                                                   0)\n",
    "\n",
    "    #  Normalized Time Metrics\n",
    "    total_time_round = data_source[\"Max_round\"]*60  # Assuming 5 minutes per round\n",
    "    data_source[f'B__{round_num}_Normalized_Back_Control'] = data_source[f'B__{round_num}_TIP_Back Control Time'] / total_time_round\n",
    "\n",
    "    #  Rate of Significant Actions\n",
    "    data_source[f'B__{round_num}_Significant_Strikes_Rate'] = data_source[f'B__{round_num}_Strikes_Significant Strikes_Landed'] / total_time_round\n",
    "\n",
    "\n",
    "# Initialize columns for momentum metrics for round 1 (as they have no prior round for comparison)\n",
    "data_source['B__Round1_Striking_Momentum'] = 0\n",
    "data_source['B__Round1_Grappling_Momentum'] = 0\n",
    "data_source['B__Round1_Control_Momentum'] = 0\n",
    "\n",
    "\n",
    "# Calculate momentum for rounds 2 through 5\n",
    "for i in range(2, 6):\n",
    "    curr_round = f\"Round{i}\"\n",
    "    prev_round = f\"Round{i-1}\"\n",
    "\n",
    "    # Striking Momentum for Blue Fighter\n",
    "    data_source[f'B__{curr_round}_Striking_Momentum'] = data_source[f'B__{curr_round}_Strikes_Significant Strikes_Landed'] - data_source[f'B__{prev_round}_Strikes_Significant Strikes_Landed']\n",
    "    \n",
    "    # Grappling Momentum for Blue Fighter\n",
    "    data_source[f'B__{curr_round}_Grappling_Momentum_{curr_round}'] = data_source[f'B__{curr_round}_Grappling_Takedowns_Landed'] - data_source[f'B__{prev_round}_Grappling_Takedowns_Landed']\n",
    "    \n",
    "    # Control Momentum for Blue Fighter (using Back Control Time as an example, you can extend this to other control positions)\n",
    "    data_source[f'B__{curr_round}_Control_Momentum_{curr_round}'] = data_source[f'B__{curr_round}_TIP_Back Control Time'] - data_source[f'B__{prev_round}_TIP_Back Control Time']\n",
    "\n",
    "\n",
    "# 7. Interaction Terms (only once, not per round)\n",
    "data_source['Age_Streak_Interaction_B'] = data_source['B__Age'] * data_source['B__Streak']\n",
    "\n",
    "\n",
    "# Assuming you have data for rounds 1 through 5 (adjust as necessary)\n",
    "rounds = [\"Round1\", \"Round2\", \"Round3\", \"Round4\", \"Round5\"]\n",
    "for round_num in rounds:\n",
    "    # Striking Efficiency for Red fighter\n",
    "    strike_land_col_r = f'R__{round_num}_Strikes_Significant Strikes_Landed'\n",
    "    strike_attempt_col_r = f'R__{round_num}_Strikes_Significant Strikes_Attempts'\n",
    "    #data_source[f'R__{round_num}_Striking_Eff'] = np.where(data_source[strike_attempt_col_r] != 0, \n",
    "    #                                                   data_source[strike_land_col_r] / data_source[strike_attempt_col_r], \n",
    "    #                                                   0)\n",
    "\n",
    "    grap_land_col_r = f'R__{round_num}_Grappling_Takedowns_Landed'\n",
    "    grap_attempt_col_r = f'R__{round_num}_Grappling_Takedowns_Attempts'\n",
    "    #data_source[f'R__{round_num}_Grappling_Eff'] = np.where(data_source[grap_attempt_col_r] != 0, \n",
    "    #                                                   data_source[grap_land_col_r] / data_source[grap_attempt_col_r], \n",
    "    #                                                   0)\n",
    "    \n",
    "    #  Normalized Time Metrics\n",
    "    data_source[f'R__{round_num}_Normalized_Back_Control'] = data_source[f'R__{round_num}_TIP_Back Control Time'] / total_time_round\n",
    "\n",
    "    #  Rate of Significant Actions\n",
    "    data_source[f'R__{round_num}_Significant_Strikes_Rate'] = data_source[f'R__{round_num}_Strikes_Significant Strikes_Landed'] / total_time_round\n",
    "\n",
    "    # 2. Relative Metrics\n",
    "    data_source[f'{round_num}_Relative_Body_Strikes'] = data_source[f'B__{round_num}_Strikes_Body Significant Strikes_Landed'] - data_source[f'R__{round_num}_Strikes_Body Significant Strikes_Landed']\n",
    "   \n",
    "\n",
    "\n",
    "\n",
    "# Initialize columns for momentum metrics for round 1 (as they have no prior round for comparison)\n",
    "data_source['R__Round1_Striking_Momentum'] = 0\n",
    "data_source['R__Round1_Grappling_Momentum'] = 0\n",
    "data_source['R__Round1_Control_Momentum'] = 0\n",
    "\n",
    "# Calculate momentum for rounds 2 through 5\n",
    "for i in range(2, 6):\n",
    "    curr_round = f\"Round{i}\"\n",
    "    prev_round = f\"Round{i-1}\"\n",
    "    # Striking Momentum for Red Fighter\n",
    "    data_source[f'R__{curr_round}_Striking_Momentum'] = data_source[f'R__{curr_round}_Strikes_Significant Strikes_Landed'] - data_source[f'R__{prev_round}_Strikes_Significant Strikes_Landed']\n",
    "    \n",
    "    # Grappling Momentum for Red Fighter\n",
    "    data_source[f'R__{curr_round}_Grappling_Momentum'] = data_source[f'R__{curr_round}_Grappling_Takedowns_Landed'] - data_source[f'R__{prev_round}_Grappling_Takedowns_Landed']\n",
    "    \n",
    "    # Control Momentum for Red Fighter\n",
    "    data_source[f'R__{curr_round}_Control_Momentum'] = data_source[f'R__{curr_round}_TIP_Back Control Time'] - data_source[f'R__{prev_round}_TIP_Back Control Time']\n",
    "\n",
    "data_source['Age_Streak_Interaction_R'] = data_source['R__Age'] * data_source['R__Streak']\n",
    "\n",
    "\n",
    "\n",
    "rounds = [\"Round1\", \"Round2\", \"Round3\", \"Round4\", \"Round5\"]\n",
    "for round_num in rounds:\n",
    "    # 2. Relative Metrics\n",
    "    data_source[f'{round_num}Relative_Body_Strikes'] = data_source[f'B__{round_num}_Strikes_Body Significant Strikes_Landed'] - data_source[f'R__{round_num}_Strikes_Body Significant Strikes_Landed']\n",
    "\n",
    "\n",
    "# 5. Physical Differences (only once, not per round)\n",
    "data_source['Height_Difference'] = data_source['B__Height'] - data_source['R__Height']\n",
    "data_source['Weight_Difference'] = data_source['B__Weight'] - data_source['R__Weight']\n",
    "data_source['Age_Difference'] = data_source['B__Age'] - data_source['R__Age']\n",
    "\n",
    "\n",
    "\n",
    "# Saving the dataset with added features\n",
    "data_source.to_csv('data/data_with_features.csv', index=False)\n",
    "\n",
    "\n",
    "#-----------------------------Parameters for neural network----------------------------\n",
    "# Read the CSV file and drop the specified columns\n",
    "data = pd.read_csv(\"data/data_with_features.csv\").drop(columns=[\"B__Name\", \"R__Name\"])\n",
    "\n",
    "objecttypes = list(data.select_dtypes(include=['O']).columns)\n",
    "for col in objecttypes:\n",
    "    data[col] = data[col].astype('category')\n",
    "\n",
    "cat_columns = data.select_dtypes(['category']).columns\n",
    "data[cat_columns] = data[cat_columns].apply(lambda x: x.cat.codes)\n",
    "\n",
    "desired_column_orderB = ['B__Prev', 'B__Streak', 'B__Age', 'B__Height', 'B__Weight']\n",
    "desired_column_orderR = ['R__Prev', 'R__Streak', 'R__Age', 'R__Height', 'R__Weight'] \n",
    "desired_column_order_relativ = ['Height_Difference', 'Weight_Difference', 'Age_Difference', \"Winner\"] \n",
    "desired_column_order = desired_column_orderB + [col for col in data.columns if col not in desired_column_orderB and col.startswith('B_')] \\\n",
    "                      + desired_column_orderR + [col for col in data.columns if col not in desired_column_orderR and col.startswith('R_')]\n",
    "\n",
    "# Create a new DataFrame with the desired column order\n",
    "new_df1 = data[desired_column_order + [col for col in data.columns if col in desired_column_order_relativ]]\n",
    "new_df1.to_csv('data/data_with_features.csv', index=False)"
   ]
  },
  {
   "cell_type": "code",
   "execution_count": null,
   "metadata": {},
   "outputs": [],
   "source": []
  },
  {
   "cell_type": "code",
   "execution_count": null,
   "metadata": {},
   "outputs": [],
   "source": []
  },
  {
   "cell_type": "code",
   "execution_count": 16,
   "metadata": {},
   "outputs": [],
   "source": [
    "names = np.unique(dropdata[['B__Name', 'R__Name']])\n",
    "lower_names = [name.lower() for name in names]\n",
    "np.savetxt('data/fighters.csv', lower_names, delimiter=',', fmt='%s', header='Fighters', comments='')"
   ]
  },
  {
   "cell_type": "code",
   "execution_count": 235,
   "metadata": {},
   "outputs": [
    {
     "data": {
      "text/plain": [
       "1098"
      ]
     },
     "execution_count": 235,
     "metadata": {},
     "output_type": "execute_result"
    }
   ],
   "source": []
  },
  {
   "cell_type": "code",
   "execution_count": 17,
   "metadata": {},
   "outputs": [],
   "source": [
    "#-------------------------------------------------Calculate mean for all fighters------------------------------\n",
    "data = pd.read_csv(\"data/data_edited.csv\")\n",
    "data_source = data.copy(True).drop('Winner',axis=1)\n",
    "\n",
    "\n",
    "object_columns_to_exclude = ['B__Name', 'R__Name', 'R__Streak', 'B__Streak']\n",
    "objecttypes = list(data_source.select_dtypes(include=['O']).columns)\n",
    "for col in objecttypes:\n",
    "    if col not in object_columns_to_exclude:\n",
    "        data_source[col] = data_source[col].astype('category')\n",
    "\n",
    "cat_columns = data_source.select_dtypes(['category']).columns\n",
    "data_source[cat_columns] = data_source[cat_columns].apply(lambda x: x.cat.codes)\n",
    "\n",
    "\n",
    "data_mean_all = pd.DataFrame()\n",
    "fighters = pd.read_csv(\"data/fighters.csv\")\n",
    "#name = 'jose aldo'\n",
    "\n",
    "for i, name in enumerate(fighters['Fighters']):\n",
    "    #if winner, 0 == blue\n",
    "    #fighterRows_win = data_source.loc[(data_source['B__Name'] == name) & (data_source['Winner'] == 0), data_source.columns.difference(['Winner'])]\n",
    "    #if not winner\n",
    "    #fighterRows_def = data_source.loc[(data_source['B__Name'] == name) & (data_source['Winner'] == 3),  data_source.columns.difference(['Winner', 'Winby'])]\n",
    "    #data_mean = pd.concat([fighterRows_win, fighterRows_def], ignore_index=True)          \n",
    "\n",
    "    data_mean = data_source.loc[(data_source['B__Name'] == name)]\n",
    "    filtered_columns = data_mean.filter(regex='^R', axis=1)\n",
    "    data_mean = data_mean.drop(filtered_columns.columns, axis=1)\n",
    "\n",
    "    new_columns = {\n",
    "        col: col.replace(\"B__\", \"\").replace(\"B_\", \"\")\n",
    "        if col.startswith(\"B__\") or col.startswith(\"B_\")\n",
    "        else col\n",
    "        for col in data_source.columns\n",
    "    }\n",
    "    data_mean = data_mean.rename(columns=new_columns)\n",
    "    data_mean_B = data_mean.drop(\"Name\", axis=1)\n",
    "\n",
    "\n",
    "\n",
    "    #fighterRows_win = data_source.loc[(data_source['R__Name'] == name) & (data_source['Winner'] == 3), data_source.columns.difference(['Winner'])]\n",
    "    #fighterRows_def = data_source.loc[(data_source['R__Name'] == name) & (data_source['Winner'] == 0),  data_source.columns.difference(['Winner', 'Winby'])]\n",
    "    #data_mean = pd.concat([fighterRows_win, fighterRows_def], ignore_index=True)\n",
    "    \n",
    "    data_mean = data_source.loc[(data_source['R__Name'] == name)]\n",
    "    filtered_columns = data_mean.filter(regex='^B', axis=1)\n",
    "    data_mean = data_mean.drop(filtered_columns.columns, axis=1)\n",
    "\n",
    "    new_columns = {\n",
    "        col: col.replace(\"R__\", \"\").replace(\"R_\", \"\")\n",
    "        if col.startswith(\"R__\") or col.startswith(\"R_\")\n",
    "        else col\n",
    "        for col in data_source.columns\n",
    "    }\n",
    "\n",
    "    data_mean = data_mean.rename(columns=new_columns)\n",
    "    data_mean_R = data_mean.drop(\"Name\", axis=1)\n",
    "\n",
    "\n",
    "    combined_df = pd.concat([data_mean_R, data_mean_B], ignore_index=True)\n",
    "    combined_df = combined_df.mean().to_frame().transpose()\n",
    "\n",
    "    combined_df['Name'] = name\n",
    "    data_mean_all = pd.concat([data_mean_all, combined_df], ignore_index=True)\n",
    "\n",
    "objecttypes = list(data_mean_all.select_dtypes(include=['float64']).columns)\n",
    "for col in objecttypes:\n",
    "    data_mean_all[col] = data_mean_all[col].astype('float32')\n",
    "    \n",
    "desired_column_order = ['Prev', 'Streak', 'Age','Height','Weight','Name']\n",
    "new_df1 = data_mean_all[desired_column_order + [col for col in data_mean_all.columns if col not in desired_column_order]]\n",
    "new_df1.to_csv('data/fighter_means.csv', index=False, header=True)"
   ]
  },
  {
   "cell_type": "code",
   "execution_count": null,
   "metadata": {},
   "outputs": [],
   "source": []
  },
  {
   "cell_type": "code",
   "execution_count": 33,
   "metadata": {},
   "outputs": [],
   "source": [
    "#-----------------------------Parameters for neural network----------------------------\n",
    "# Read the CSV file and drop the specified columns\n",
    "data = pd.read_csv(\"data/data_edited.csv\").drop(columns=[\"B__Name\", \"R__Name\"])\n",
    "\n",
    "objecttypes = list(data.select_dtypes(include=['O']).columns)\n",
    "for col in objecttypes:\n",
    "    data[col] = data[col].astype('category')\n",
    "\n",
    "cat_columns = data.select_dtypes(['category']).columns\n",
    "data[cat_columns] = data[cat_columns].apply(lambda x: x.cat.codes)\n",
    "\n",
    "\n",
    "\n",
    "\n",
    "desired_column_orderB = ['B__Prev', 'B__Streak', 'B__Age', 'B__Height', 'B__Weight']\n",
    "desired_column_orderR = ['R__Prev', 'R__Streak', 'R__Age', 'R__Height', 'R__Weight'] \n",
    "desired_column_order = desired_column_orderB + [col for col in data.columns if col not in desired_column_orderB and col.startswith('B_')] \\\n",
    "                      + desired_column_orderR + [col for col in data.columns if col not in desired_column_orderR and col.startswith('R_')]\n",
    "\n",
    "# Create a new DataFrame with the desired column order\n",
    "new_df1 = data[desired_column_order + [col for col in data.columns if col not in desired_column_order]]\n",
    "new_df1.to_csv('data/data_edited.csv', index=False)"
   ]
  },
  {
   "cell_type": "code",
   "execution_count": 80,
   "metadata": {},
   "outputs": [],
   "source": [
    "# Read the CSV file and drop the specified columns\n",
    "data = pd.read_csv(\"data/data_with_features.csv\")\n",
    "objecttypes = list(data.select_dtypes(include=['float64']).columns)\n",
    "for col in objecttypes:\n",
    "    data[col] = data[col].astype('float32')"
   ]
  },
  {
   "cell_type": "code",
   "execution_count": 77,
   "metadata": {},
   "outputs": [
    {
     "data": {
      "text/plain": [
       "Index([], dtype='object')"
      ]
     },
     "execution_count": 77,
     "metadata": {},
     "output_type": "execute_result"
    }
   ],
   "source": [
    "# Find rows with NaN values\n",
    "rows_with_nan = data[data.isnull().any(axis=1)]\n",
    "# Get the column names with NaN values\n",
    "columns_with_nan = data.columns[data.isnull().any()]\n",
    "\n",
    "columns_with_nan"
   ]
  },
  {
   "cell_type": "code",
   "execution_count": 82,
   "metadata": {},
   "outputs": [
    {
     "data": {
      "text/plain": [
       "934"
      ]
     },
     "execution_count": 82,
     "metadata": {},
     "output_type": "execute_result"
    }
   ],
   "source": [
    "len(data.columns)"
   ]
  },
  {
   "cell_type": "code",
   "execution_count": 67,
   "metadata": {},
   "outputs": [
    {
     "data": {
      "text/plain": [
       "0.0"
      ]
     },
     "execution_count": 67,
     "metadata": {},
     "output_type": "execute_result"
    },
    {
     "data": {
      "text/plain": [
       "array(0.)"
      ]
     },
     "execution_count": 67,
     "metadata": {},
     "output_type": "execute_result"
    }
   ],
   "source": [
    "data = pd.read_csv(\"data/data_edited.csv\")\n",
    "\n",
    "strike_land_col_r = f'R__{round_num}_Strikes_Significant Strikes_Landed'\n",
    "strike_attempt_col_r = f'R__{round_num}_Strikes_Significant Strikes_Attempts'\n",
    "\n",
    "data.loc[72, 'B__Round2_Strikes_Significant Strikes_Attempts']\n",
    "\n",
    "np.where(data.loc[72, 'B__Round2_Strikes_Significant Strikes_Attempts'] != 0, data.loc[72, 'B__Round2_Strikes_Significant Strikes_Landed'] / 2, 0)"
   ]
  },
  {
   "cell_type": "code",
   "execution_count": 68,
   "metadata": {},
   "outputs": [
    {
     "data": {
      "text/plain": [
       "0.0"
      ]
     },
     "execution_count": 68,
     "metadata": {},
     "output_type": "execute_result"
    }
   ],
   "source": [
    "data.loc[72, 'B__Round2_Strikes_Significant Strikes_Landed']/3\n"
   ]
  },
  {
   "cell_type": "code",
   "execution_count": null,
   "metadata": {},
   "outputs": [],
   "source": [
    "Most common way of winning a fight"
   ]
  },
  {
   "cell_type": "code",
   "execution_count": null,
   "metadata": {},
   "outputs": [],
   "source": [
    "Wine streak and winning correlation"
   ]
  },
  {
   "cell_type": "code",
   "execution_count": null,
   "metadata": {},
   "outputs": [],
   "source": []
  },
  {
   "cell_type": "code",
   "execution_count": null,
   "metadata": {},
   "outputs": [],
   "source": []
  },
  {
   "cell_type": "code",
   "execution_count": null,
   "metadata": {},
   "outputs": [],
   "source": []
  },
  {
   "cell_type": "code",
   "execution_count": null,
   "metadata": {},
   "outputs": [],
   "source": []
  },
  {
   "cell_type": "code",
   "execution_count": null,
   "metadata": {},
   "outputs": [],
   "source": [
    "#data_hist = data.iloc[:, :5].hist(figsize=(10,10), xrot=-45)\n",
    "data_hist = data.iloc[:, :10]\n",
    "#sns.histplot(data=data_hist, element='step')\n",
    "\n",
    "# # Customize the legend\n",
    "# legend_labels = ['Group A', 'Group B with a long name']\n",
    "\n",
    "\n",
    "# plt.legend(legend_labels, title='Groups')\n",
    "# # Adjust the aesthetics of the legend\n",
    "# legend = plt.gca().get_legend()\n",
    "# plt.setp(legend.get_title(), fontsize='14', fontweight='bold')\n",
    "# plt.setp(legend.get_texts(), fontsize='12')\n",
    "\n",
    "for column in data_hist.columns:\n",
    "    column_values = data_hist[column].astype(str)\n",
    "    # Create a new plot for each variable\n",
    "    sns.histplot(data=column_values)\n",
    "\n",
    "    plt.title(column)  # Set the title of the plot as the variable name\n",
    "    plt.xlabel('Value')  # Set the x-axis label\n",
    "    plt.xticks(rotation='vertical')  # Adjust the rotation angle as needed\n",
    "    plt.ylabel('Frequency')  # Set the y-axis label\n",
    "    plt.show();  # Display the plot\n",
    "\n",
    "#plt.show()\n"
   ]
  },
  {
   "cell_type": "code",
   "execution_count": null,
   "metadata": {},
   "outputs": [],
   "source": []
  },
  {
   "cell_type": "code",
   "execution_count": null,
   "metadata": {},
   "outputs": [],
   "source": [
    "df = {  'Name': data['B_Location'].value_counts().head(15).index, \n",
    "        'Count': data['B_Location'].value_counts().head(15).values}\n",
    "df = pd.DataFrame(df)\n",
    "sns.barplot(data=df, y='Name', x='Count')\n",
    "plt.show() "
   ]
  },
  {
   "cell_type": "code",
   "execution_count": null,
   "metadata": {},
   "outputs": [],
   "source": [
    "sns.countplot(y='winner', data=data_cleaned) \n",
    "plt.show() \n"
   ]
  },
  {
   "cell_type": "code",
   "execution_count": null,
   "metadata": {},
   "outputs": [],
   "source": [
    "sns.countplot(y='Winner', data=data_source) \n",
    "plt.show() "
   ]
  },
  {
   "cell_type": "code",
   "execution_count": null,
   "metadata": {},
   "outputs": [],
   "source": [
    "sns.countplot(y='winner_code', data=dropdata) \n",
    "plt.show() "
   ]
  },
  {
   "cell_type": "code",
   "execution_count": null,
   "metadata": {},
   "outputs": [],
   "source": [
    "data = dropdata[(dropdata[\"winner\"] == \"red\") | (dropdata[\"winner\"] == \"blue\")]"
   ]
  },
  {
   "cell_type": "code",
   "execution_count": null,
   "metadata": {},
   "outputs": [],
   "source": [
    "#for feature in data.dtypes[data.dtypes == 'object'].index: \n",
    "sns.countplot(y='R__Weight', data=dropdata) \n",
    "plt.show() \n",
    "sns.countplot(y='B__Weight', data=dropdata) \n",
    "plt.show() "
   ]
  },
  {
   "cell_type": "code",
   "execution_count": null,
   "metadata": {},
   "outputs": [],
   "source": [
    "#Basic Correlation Matrix\n",
    "corrmat = dropdata.corr()\n",
    "f, ax = plt.subplots(figsize=(12, 9))\n",
    "sns.heatmap(corrmat, vmax=.8, square=True)"
   ]
  },
  {
   "cell_type": "code",
   "execution_count": null,
   "metadata": {},
   "outputs": [],
   "source": [
    "# Subset Correlation Matrix\n",
    "k = 10 #number of variables for heatmap\n",
    "corrmat = dropdata.corr()\n",
    "cols = corrmat.nlargest(k, 'winner')['winner'].index\n",
    "cm = np.corrcoef(dropdata[cols].values.T)\n",
    "sns.set(font_scale=1.25)\n",
    "hm = sns.heatmap(cm, cbar=True, annot=True, square=True, fmt='.2f', annot_kws={'size': 10}, yticklabels=cols.values, xticklabels=cols.values)\n",
    "plt.show()"
   ]
  },
  {
   "cell_type": "code",
   "execution_count": null,
   "metadata": {},
   "outputs": [],
   "source": [
    "sns.lmplot(x=\"B__Round3_Strikes_Body Significant Strikes_Attempts\", \n",
    "            y=\"B__Round3_Strikes_Body Significant Strikes_Landed\", \n",
    "            col=\"winner\", hue=\"winner\", data=data, col_wrap=2)"
   ]
  }
 ],
 "metadata": {
  "kernelspec": {
   "display_name": "Python 3 (ipykernel)",
   "language": "python",
   "name": "python3"
  },
  "language_info": {
   "codemirror_mode": {
    "name": "ipython",
    "version": 3
   },
   "file_extension": ".py",
   "mimetype": "text/x-python",
   "name": "python",
   "nbconvert_exporter": "python",
   "pygments_lexer": "ipython3",
   "version": "3.9.17"
  },
  "orig_nbformat": 4,
  "vscode": {
   "interpreter": {
    "hash": "2a6af1aa4dddc4b70d90ebbae612199da6182abeea02c55c7c8ac111d317351a"
   }
  }
 },
 "nbformat": 4,
 "nbformat_minor": 2
}
