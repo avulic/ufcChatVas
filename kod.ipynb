{
 "cells": [
  {
   "cell_type": "code",
   "execution_count": 182,
   "metadata": {},
   "outputs": [],
   "source": [
    "# Imports and Helper Functions\n",
    "# data Analysis\n",
    "import pandas as pd\n",
    "import numpy as np\n",
    "import random as rng\n",
    "\n",
    "# Visualization\n",
    "import seaborn as sns\n",
    "import matplotlib.pyplot as plt\n",
    "%matplotlib inline\n",
    "\n",
    "from IPython.core.interactiveshell import InteractiveShell\n",
    "InteractiveShell.ast_node_interactivity = \"all\"\n",
    "#InteractiveShell.ast_node_interactivity = \"last_expr\" -- povrat"
   ]
  },
  {
   "cell_type": "code",
   "execution_count": 251,
   "metadata": {},
   "outputs": [],
   "source": [
    "\n",
    "pd.options.display.float_format = '{:,.2f}'.format\n",
    "data = pd.read_csv(\"data.csv\")\n",
    "fighters = pd.read_csv(\"fighters.csv\")\n",
    "categories_data = pd.read_csv(\"categories.csv\")\n",
    "fighter_mean = pd.read_csv(\"fighter_means.csv\")\n",
    "data_edited = pd.read_csv(\"data_edited.csv\")"
   ]
  },
  {
   "cell_type": "code",
   "execution_count": 252,
   "metadata": {},
   "outputs": [
    {
     "data": {
      "text/plain": [
       "Index(['BPrev', 'BStreak', 'B_Age', 'B_Height', 'B_HomeTown', 'B_ID',\n",
       "       'B_Location', 'B_Name', 'B_Weight',\n",
       "       'B__Round1_Grappling_Reversals_Landed',\n",
       "       ...\n",
       "       'R__Round5_TIP_Ground Time', 'R__Round5_TIP_Guard Control Time',\n",
       "       'R__Round5_TIP_Half Guard Control Time',\n",
       "       'R__Round5_TIP_Misc. Ground Control Time',\n",
       "       'R__Round5_TIP_Mount Control Time', 'R__Round5_TIP_Neutral Time',\n",
       "       'R__Round5_TIP_Side Control Time', 'R__Round5_TIP_Standing Time',\n",
       "       'winby', 'winner'],\n",
       "      dtype='object', length=894)"
      ]
     },
     "execution_count": 252,
     "metadata": {},
     "output_type": "execute_result"
    },
    {
     "data": {
      "text/plain": [
       "Index(['B__Prev', 'B__Age', 'B__Height', 'B__Weight',\n",
       "       'B__Round1_Grappling_Reversals_Landed',\n",
       "       'B__Round1_Grappling_Standups_Landed',\n",
       "       'B__Round1_Grappling_Submissions_Attempts',\n",
       "       'B__Round1_Grappling_Takedowns_Attempts',\n",
       "       'B__Round1_Grappling_Takedowns_Landed',\n",
       "       'B__Round1_Strikes_Body Significant Strikes_Attempts',\n",
       "       ...\n",
       "       'R__Round5_TIP_Ground Control Time', 'R__Round5_TIP_Ground Time',\n",
       "       'R__Round5_TIP_Guard Control Time',\n",
       "       'R__Round5_TIP_Half Guard Control Time',\n",
       "       'R__Round5_TIP_Misc. Ground Control Time',\n",
       "       'R__Round5_TIP_Mount Control Time', 'R__Round5_TIP_Neutral Time',\n",
       "       'R__Round5_TIP_Side Control Time', 'R__Round5_TIP_Standing Time',\n",
       "       'winner_code'],\n",
       "      dtype='object', length=879)"
      ]
     },
     "execution_count": 252,
     "metadata": {},
     "output_type": "execute_result"
    },
    {
     "data": {
      "text/plain": [
       "Index(['Prev', 'Age', 'Height', 'Weight', 'Round1_Grappling_Reversals_Landed',\n",
       "       'Round1_Grappling_Standups_Landed',\n",
       "       'Round1_Grappling_Submissions_Attempts',\n",
       "       'Round1_Grappling_Takedowns_Attempts',\n",
       "       'Round1_Grappling_Takedowns_Landed',\n",
       "       'Round1_Strikes_Body Significant Strikes_Attempts',\n",
       "       ...\n",
       "       'Round5_TIP_Ground Control Time', 'Round5_TIP_Ground Time',\n",
       "       'Round5_TIP_Guard Control Time', 'Round5_TIP_Half Guard Control Time',\n",
       "       'Round5_TIP_Misc. Ground Control Time', 'Round5_TIP_Mount Control Time',\n",
       "       'Round5_TIP_Neutral Time', 'Round5_TIP_Side Control Time',\n",
       "       'Round5_TIP_Standing Time', 'Name'],\n",
       "      dtype='object', length=440)"
      ]
     },
     "execution_count": 252,
     "metadata": {},
     "output_type": "execute_result"
    }
   ],
   "source": [
    "#data_edited.columns\n",
    "#fighter_mean.columns\n",
    "data.columns \n",
    "data_edited.columns\n",
    "fighter_mean.columns\n",
    "#np.setdiff1d(data_edited.columns, fighter_mean.columns)\n",
    "\n"
   ]
  },
  {
   "cell_type": "code",
   "execution_count": null,
   "metadata": {},
   "outputs": [],
   "source": [
    "#data.head()\n",
    "fighters.head()\n",
    "categories_data.head()\n",
    "data.tail()"
   ]
  },
  {
   "cell_type": "code",
   "execution_count": null,
   "metadata": {},
   "outputs": [],
   "source": [
    "data.dtypes\n",
    "data.shape\n",
    "data.info()"
   ]
  },
  {
   "cell_type": "code",
   "execution_count": null,
   "metadata": {},
   "outputs": [],
   "source": [
    "data.describe(include=['object']) \n",
    "#deskriptivan statiskita za brojčane varijable\n",
    "data.describe()"
   ]
  },
  {
   "cell_type": "code",
   "execution_count": 241,
   "metadata": {},
   "outputs": [],
   "source": [
    "# Drop rows with NaN values in column 'A'\n",
    "#data.dropna(subset=['winner'], inplace=True)\n",
    "#data[\"winner\"].unique()\n",
    "\n",
    "data = data[(data[\"winner\"] == \"red\") | (data[\"winner\"] == \"blue\")]"
   ]
  },
  {
   "cell_type": "code",
   "execution_count": 242,
   "metadata": {},
   "outputs": [],
   "source": [
    "names = data[\"B_Name\"].unique()\n",
    "lower_names = [name.lower() for name in names]\n",
    "np.savetxt('fighters.csv', lower_names, delimiter=',', fmt='%s', header='Fighters', comments='')"
   ]
  },
  {
   "cell_type": "code",
   "execution_count": 243,
   "metadata": {},
   "outputs": [],
   "source": [
    "#data.fillna(value=0, inplace=True)\n",
    "data.loc[:, :] = data.fillna(value=0)\n",
    "data['R_Name'] = data['R_Name'].str.lower()\n",
    "data['B_Name'] = data['B_Name'].str.lower()"
   ]
  },
  {
   "cell_type": "code",
   "execution_count": 244,
   "metadata": {},
   "outputs": [],
   "source": [
    "dropdata = data.drop(['Event_ID', 'Fight_ID', 'B_Location', 'B_HomeTown', 'B_ID','B_Name', 'R_Location', 'R_HomeTown','R_ID','R_Name','winby','Date', 'BStreak', 'Last_round', 'Max_round'], axis=1)\n",
    "\n",
    "dropdata.rename(columns={'BPrev':'B__Prev',\n",
    "                        'RPrev':'R__Prev',\n",
    "                        'B_Age':'B__Age',\n",
    "                        'B_Height':'B__Height',\n",
    "                        'B_Weight':'B__Weight',\n",
    "                        'R_Age':'R__Age',\n",
    "                        'R_Height':'R__Height',\n",
    "                        'R_Weight':'R__Weight'}, inplace=True)"
   ]
  },
  {
   "cell_type": "code",
   "execution_count": 245,
   "metadata": {},
   "outputs": [],
   "source": [
    "#pretvaranje object type columns  u kategorijske tip kolumni    \n",
    "objecttypes = list(dropdata.select_dtypes(include=['O']).columns)\n",
    "for col in objecttypes:\n",
    "    dropdata[col] = dropdata[col].astype('category')\n",
    "\n",
    "cat_columns = dropdata.select_dtypes(['category']).columns\n",
    "dropdata[cat_columns+\"_code\"] = dropdata[cat_columns].apply(lambda x: x.cat.codes)"
   ]
  },
  {
   "cell_type": "code",
   "execution_count": 246,
   "metadata": {},
   "outputs": [],
   "source": [
    "dropdata = dropdata.drop('winner', axis=1)"
   ]
  },
  {
   "cell_type": "code",
   "execution_count": 247,
   "metadata": {},
   "outputs": [],
   "source": [
    "objecttypes = list(dropdata.select_dtypes(include=['float64']).columns)\n",
    "for col in objecttypes:\n",
    "    dropdata[col] = dropdata[col].astype('float32')\n",
    "\n",
    "dropdata.to_csv('data_edited.csv', index=False)"
   ]
  },
  {
   "cell_type": "code",
   "execution_count": 249,
   "metadata": {},
   "outputs": [],
   "source": [
    "data_mean = data.drop(['Event_ID', 'Fight_ID', 'B_Location', 'B_HomeTown', 'B_ID', 'R_Location', 'R_HomeTown','R_ID','winby','Date', 'BStreak', 'winner', 'Last_round', 'Max_round'], axis=1)\n",
    "data_mean.rename(columns={'BPrev':'B__Prev',\n",
    "                        'RPrev':'R__Prev',\n",
    "                        'B_Age':'B__Age',\n",
    "                        'B_Height':'B__Height',\n",
    "                        'B_Weight':'B__Weight',\n",
    "                        'R_Age':'R__Age',\n",
    "                        'R_Height':'R__Height',\n",
    "                        'R_Weight':'R__Weight',\n",
    "                        'B_Name': 'B__Name',\n",
    "                        'R_Name': 'R__Name'}, inplace=True)\n",
    "\n",
    "combined_all = pd.DataFrame()\n",
    "\n",
    "for i, name in enumerate(fighters['Fighters']):\n",
    "    conor = data_mean.loc[ (data_mean['B__Name'] == name)]\n",
    "    filtered_columns = conor.filter(regex='^R', axis=1)\n",
    "    conorB = conor.drop(filtered_columns.columns, axis=1)\n",
    "\n",
    "    new_columns = {col: col.replace(\"B__\", \"\") for col in conorB.columns if col.startswith(\"B__\")}\n",
    "    conorB = conorB.rename(columns=new_columns)\n",
    "    conorB = conorB.drop(\"Name\", axis=1)\n",
    "\n",
    "    conor = data_mean.loc[ (data_mean['R__Name'] == name)]\n",
    "    filtered_columns = conor.filter(regex='^B', axis=1)\n",
    "    conorR = conor.drop(filtered_columns.columns, axis=1)\n",
    "\n",
    "    new_columns = {col: col.replace(\"R__\", \"\") for col in conorR.columns if col.startswith(\"R__\")}\n",
    "    conorR = conorR.rename(columns=new_columns)\n",
    "    conorR = conorR.drop(\"Name\", axis=1)\n",
    "    # conorR['Last_round'] = conorR.pop('Last_round')\n",
    "    # conorR['Max_round'] = conorR.pop('Max_round')\n",
    "    combined_df = pd.concat([conorR, conorB], ignore_index=True)\n",
    "    combined_df = combined_df.mean().to_frame().transpose()\n",
    "\n",
    "    combined_df['Name'] = name\n",
    "    combined_all = pd.concat([combined_all, combined_df], ignore_index=True)\n"
   ]
  },
  {
   "cell_type": "code",
   "execution_count": 250,
   "metadata": {},
   "outputs": [],
   "source": [
    "objecttypes = list(combined_all.select_dtypes(include=['float64']).columns)\n",
    "for col in objecttypes:\n",
    "    combined_all[col] = combined_all[col].astype('float32')\n",
    "\n",
    "combined_all.to_csv('fighter_means.csv', index=False, header=True)\n"
   ]
  },
  {
   "cell_type": "code",
   "execution_count": null,
   "metadata": {},
   "outputs": [],
   "source": [
    "#for feature in data.dtypes[data.dtypes == 'object'].index: \n",
    "df = {'Name': data['B_Location'].value_counts().head(15).index, 'Count': data['B_Location'].value_counts().head(15).values}\n",
    "df = pd.DataFrame(df)\n",
    "sns.countplot(x='winby', data=data) \n",
    "plt.show() "
   ]
  },
  {
   "cell_type": "code",
   "execution_count": null,
   "metadata": {},
   "outputs": [],
   "source": [
    "df = {  'Name': data['B_Location'].value_counts().head(15).index, \n",
    "        'Count': data['B_Location'].value_counts().head(15).values}\n",
    "df = pd.DataFrame(df)\n",
    "sns.barplot(data=df, y='Name', x='Count')\n",
    "plt.show() "
   ]
  },
  {
   "cell_type": "code",
   "execution_count": null,
   "metadata": {},
   "outputs": [],
   "source": [
    "for feature in data.dtypes[data.dtypes == 'object'].index: \n",
    "    sns.countplot(y=feature, data=dropdata) \n",
    "    plt.show() "
   ]
  },
  {
   "cell_type": "code",
   "execution_count": null,
   "metadata": {},
   "outputs": [],
   "source": [
    "sns.countplot(y='winner_code', data=dropdata) \n",
    "plt.show() \n"
   ]
  },
  {
   "cell_type": "code",
   "execution_count": null,
   "metadata": {},
   "outputs": [],
   "source": [
    "#for feature in data.dtypes[data.dtypes == 'object'].index: \n",
    "sns.countplot(y='R__Weight', data=dropdata) \n",
    "sns.countplot(y='B__Weight', data=dropdata) \n",
    "plt.show() "
   ]
  },
  {
   "cell_type": "code",
   "execution_count": null,
   "metadata": {},
   "outputs": [],
   "source": [
    "#Basic Correlation Matrix\n",
    "corrmat = dropdata.corr()\n",
    "f, ax = plt.subplots(figsize=(12, 9))\n",
    "sns.heatmap(corrmat, vmax=.8, square=True)"
   ]
  },
  {
   "cell_type": "code",
   "execution_count": null,
   "metadata": {},
   "outputs": [],
   "source": [
    "# Subset Correlation Matrix\n",
    "k = 10 #number of variables for heatmap\n",
    "corrmat = dropdata.corr()\n",
    "cols = corrmat.nlargest(k, 'winner')['winner'].index\n",
    "cm = np.corrcoef(dropdata[cols].values.T)\n",
    "sns.set(font_scale=1)\n",
    "hm = sns.heatmap(cm, cbar=True, annot=True, square=True, fmt='.2f', annot_kws={'size': 5}, yticklabels=cols.values, xticklabels=cols.values)\n",
    "plt.show()"
   ]
  },
  {
   "cell_type": "code",
   "execution_count": null,
   "metadata": {},
   "outputs": [],
   "source": [
    "Gradient Boosting Classifier was \n",
    "applied with a multinomial deviance loss \n",
    "function and a learning rate of 0.01, \n",
    "producing the following relative variable \n",
    "importances:"
   ]
  },
  {
   "cell_type": "code",
   "execution_count": null,
   "metadata": {},
   "outputs": [],
   "source": [
    "sns.lmplot(x=\"B__Round3_Strikes_Body Significant Strikes_Attempts\", \n",
    "            y=\"B__Round3_Strikes_Body Significant Strikes_Landed\", \n",
    "            col=\"winner\", hue=\"winner\", data=dropdata, col_wrap=2)"
   ]
  }
 ],
 "metadata": {
  "kernelspec": {
   "display_name": "Python 3 (ipykernel)",
   "language": "python",
   "name": "python3"
  },
  "language_info": {
   "codemirror_mode": {
    "name": "ipython",
    "version": 3
   },
   "file_extension": ".py",
   "mimetype": "text/x-python",
   "name": "python",
   "nbconvert_exporter": "python",
   "pygments_lexer": "ipython3",
   "version": "3.9.16"
  },
  "orig_nbformat": 4,
  "vscode": {
   "interpreter": {
    "hash": "2a6af1aa4dddc4b70d90ebbae612199da6182abeea02c55c7c8ac111d317351a"
   }
  }
 },
 "nbformat": 4,
 "nbformat_minor": 2
}
