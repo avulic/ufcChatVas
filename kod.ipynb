{
 "cells": [
  {
   "cell_type": "code",
   "execution_count": 1,
   "metadata": {},
   "outputs": [],
   "source": [
    "# Imports and Helper Functions\n",
    "# data Analysis\n",
    "import pandas as pd\n",
    "import numpy as np\n",
    "import random as rng\n",
    "\n",
    "# Visualization\n",
    "import seaborn as sns\n",
    "import matplotlib.pyplot as plt\n",
    "%matplotlib inline\n",
    "\n",
    "from IPython.core.interactiveshell import InteractiveShell\n",
    "InteractiveShell.ast_node_interactivity = \"all\"\n",
    "#InteractiveShell.ast_node_interactivity = \"last_expr\" -- povrat"
   ]
  },
  {
   "cell_type": "code",
   "execution_count": 2,
   "metadata": {},
   "outputs": [],
   "source": [
    "data = pd.read_csv(\"data.csv\")\n",
    "\n",
    "# Display floats with 2 decimal places\n",
    "pd.options.display.float_format = '{:,.2f}'.format\n",
    "\n",
    "fighters_data = pd.read_csv(\"fighters.csv\")\n",
    "categories_data = pd.read_csv(\"categories.csv\")\n",
    "#fights_data = pd.read_csv(\"fights.csv\")"
   ]
  },
  {
   "cell_type": "code",
   "execution_count": null,
   "metadata": {},
   "outputs": [],
   "source": [
    "#data.head()\n",
    "fighters_data.head()\n",
    "categories_data.head()"
   ]
  },
  {
   "cell_type": "code",
   "execution_count": null,
   "metadata": {},
   "outputs": [],
   "source": [
    "data.tail()"
   ]
  },
  {
   "cell_type": "code",
   "execution_count": null,
   "metadata": {},
   "outputs": [],
   "source": [
    "data.dtypes\n",
    "data.shape\n",
    "data.info()"
   ]
  },
  {
   "cell_type": "code",
   "execution_count": null,
   "metadata": {},
   "outputs": [],
   "source": [
    "data.describe(include=['object']) \n",
    "#deskriptivan statiskita za brojčane varijable\n",
    "data.describe()"
   ]
  },
  {
   "cell_type": "code",
   "execution_count": 3,
   "metadata": {},
   "outputs": [],
   "source": [
    "# Drop rows with NaN values in column 'A'\n",
    "#data.dropna(subset=['winner'], inplace=True)\n",
    "#data[\"winner\"].unique()\n",
    "\n",
    "dropdata=data[(data[\"winner\"] == \"red\") & (data[\"winner\"] == \"blue\")]"
   ]
  },
  {
   "cell_type": "code",
   "execution_count": 41,
   "metadata": {},
   "outputs": [],
   "source": [
    "fighters=data[\"B_Name\"].unique()\n",
    "np.savetxt('fighters.csv', fighters, delimiter=',', fmt='%s', header='Fighters', comments='')\n",
    "#fighters"
   ]
  },
  {
   "cell_type": "code",
   "execution_count": 4,
   "metadata": {},
   "outputs": [],
   "source": [
    "data.fillna(value=0, inplace=True)"
   ]
  },
  {
   "cell_type": "code",
   "execution_count": 32,
   "metadata": {},
   "outputs": [],
   "source": [
    "dropdata = data.drop(['B_Location', 'B_HomeTown', 'B_ID','B_Name', 'R_Location', 'R_HomeTown','R_ID','R_Name','winby','Date'], axis=1)\n",
    "dropdata.rename(columns={'BPrev':'B__Prev',\n",
    "                        'RPrev':'R__Prev',\n",
    "                        'B_Age':'B__Age',\n",
    "                        'B_Height':'B__Height',\n",
    "                        'B_Weight':'B__Weight',\n",
    "                        'R_Age':'R__Age',\n",
    "                        'R_Height':'R__Height',\n",
    "                        'R_Weight':'R__Weight',\n",
    "                        'BStreak':'B__Streak',\n",
    "                        'RStreak': 'R__Streak'}, inplace=True)"
   ]
  },
  {
   "cell_type": "code",
   "execution_count": 15,
   "metadata": {},
   "outputs": [
    {
     "ename": "TypeError",
     "evalue": "mean() got an unexpected keyword argument 'header'",
     "output_type": "error",
     "traceback": [
      "\u001b[0;31m---------------------------------------------------------------------------\u001b[0m",
      "\u001b[0;31mTypeError\u001b[0m                                 Traceback (most recent call last)",
      "Cell \u001b[0;32mIn[15], line 32\u001b[0m\n\u001b[1;32m     30\u001b[0m combined_df \u001b[39m=\u001b[39m pd\u001b[39m.\u001b[39mconcat([conorB, conorR], ignore_index\u001b[39m=\u001b[39m\u001b[39mTrue\u001b[39;00m)\n\u001b[1;32m     31\u001b[0m combined_df \u001b[39m=\u001b[39m combined_df\u001b[39m.\u001b[39mdrop([\u001b[39m'\u001b[39m\u001b[39mName\u001b[39m\u001b[39m'\u001b[39m], axis\u001b[39m=\u001b[39m\u001b[39m1\u001b[39m)\n\u001b[0;32m---> 32\u001b[0m combined_df \u001b[39m=\u001b[39m combined_df\u001b[39m.\u001b[39;49mmean(header\u001b[39m=\u001b[39;49m\u001b[39mTrue\u001b[39;49;00m)\n\u001b[1;32m     33\u001b[0m combined_df\n\u001b[1;32m     34\u001b[0m combined_df\u001b[39m.\u001b[39mto_csv(\u001b[39m'\u001b[39m\u001b[39mfighters_mean.csv\u001b[39m\u001b[39m'\u001b[39m, index\u001b[39m=\u001b[39m\u001b[39mTrue\u001b[39;00m, header\u001b[39m=\u001b[39m\u001b[39mTrue\u001b[39;00m)\n",
      "File \u001b[0;32m~/miniconda3/envs/foi/lib/python3.9/site-packages/pandas/core/generic.py:11556\u001b[0m, in \u001b[0;36mNDFrame._add_numeric_operations.<locals>.mean\u001b[0;34m(self, axis, skipna, numeric_only, **kwargs)\u001b[0m\n\u001b[1;32m  11539\u001b[0m \u001b[39m@doc\u001b[39m(\n\u001b[1;32m  11540\u001b[0m     _num_doc,\n\u001b[1;32m  11541\u001b[0m     desc\u001b[39m=\u001b[39m\u001b[39m\"\u001b[39m\u001b[39mReturn the mean of the values over the requested axis.\u001b[39m\u001b[39m\"\u001b[39m,\n\u001b[0;32m   (...)\u001b[0m\n\u001b[1;32m  11554\u001b[0m     \u001b[39m*\u001b[39m\u001b[39m*\u001b[39mkwargs,\n\u001b[1;32m  11555\u001b[0m ):\n\u001b[0;32m> 11556\u001b[0m     \u001b[39mreturn\u001b[39;00m NDFrame\u001b[39m.\u001b[39;49mmean(\u001b[39mself\u001b[39;49m, axis, skipna, numeric_only, \u001b[39m*\u001b[39;49m\u001b[39m*\u001b[39;49mkwargs)\n",
      "File \u001b[0;32m~/miniconda3/envs/foi/lib/python3.9/site-packages/pandas/core/generic.py:11201\u001b[0m, in \u001b[0;36mNDFrame.mean\u001b[0;34m(self, axis, skipna, numeric_only, **kwargs)\u001b[0m\n\u001b[1;32m  11194\u001b[0m \u001b[39mdef\u001b[39;00m \u001b[39mmean\u001b[39m(\n\u001b[1;32m  11195\u001b[0m     \u001b[39mself\u001b[39m,\n\u001b[1;32m  11196\u001b[0m     axis: Axis \u001b[39m|\u001b[39m \u001b[39mNone\u001b[39;00m \u001b[39m=\u001b[39m \u001b[39m0\u001b[39m,\n\u001b[0;32m   (...)\u001b[0m\n\u001b[1;32m  11199\u001b[0m     \u001b[39m*\u001b[39m\u001b[39m*\u001b[39mkwargs,\n\u001b[1;32m  11200\u001b[0m ) \u001b[39m-\u001b[39m\u001b[39m>\u001b[39m Series \u001b[39m|\u001b[39m \u001b[39mfloat\u001b[39m:\n\u001b[0;32m> 11201\u001b[0m     \u001b[39mreturn\u001b[39;00m \u001b[39mself\u001b[39;49m\u001b[39m.\u001b[39;49m_stat_function(\n\u001b[1;32m  11202\u001b[0m         \u001b[39m\"\u001b[39;49m\u001b[39mmean\u001b[39;49m\u001b[39m\"\u001b[39;49m, nanops\u001b[39m.\u001b[39;49mnanmean, axis, skipna, numeric_only, \u001b[39m*\u001b[39;49m\u001b[39m*\u001b[39;49mkwargs\n\u001b[1;32m  11203\u001b[0m     )\n",
      "File \u001b[0;32m~/miniconda3/envs/foi/lib/python3.9/site-packages/pandas/core/generic.py:11154\u001b[0m, in \u001b[0;36mNDFrame._stat_function\u001b[0;34m(self, name, func, axis, skipna, numeric_only, **kwargs)\u001b[0m\n\u001b[1;32m  11152\u001b[0m     nv\u001b[39m.\u001b[39mvalidate_median((), kwargs)\n\u001b[1;32m  11153\u001b[0m \u001b[39melse\u001b[39;00m:\n\u001b[0;32m> 11154\u001b[0m     nv\u001b[39m.\u001b[39;49mvalidate_stat_func((), kwargs, fname\u001b[39m=\u001b[39;49mname)\n\u001b[1;32m  11156\u001b[0m validate_bool_kwarg(skipna, \u001b[39m\"\u001b[39m\u001b[39mskipna\u001b[39m\u001b[39m\"\u001b[39m, none_allowed\u001b[39m=\u001b[39m\u001b[39mFalse\u001b[39;00m)\n\u001b[1;32m  11158\u001b[0m \u001b[39mreturn\u001b[39;00m \u001b[39mself\u001b[39m\u001b[39m.\u001b[39m_reduce(\n\u001b[1;32m  11159\u001b[0m     func, name\u001b[39m=\u001b[39mname, axis\u001b[39m=\u001b[39maxis, skipna\u001b[39m=\u001b[39mskipna, numeric_only\u001b[39m=\u001b[39mnumeric_only\n\u001b[1;32m  11160\u001b[0m )\n",
      "File \u001b[0;32m~/miniconda3/envs/foi/lib/python3.9/site-packages/pandas/compat/numpy/function.py:80\u001b[0m, in \u001b[0;36mCompatValidator.__call__\u001b[0;34m(self, args, kwargs, fname, max_fname_arg_count, method)\u001b[0m\n\u001b[1;32m     78\u001b[0m     validate_args(fname, args, max_fname_arg_count, \u001b[39mself\u001b[39m\u001b[39m.\u001b[39mdefaults)\n\u001b[1;32m     79\u001b[0m \u001b[39melif\u001b[39;00m method \u001b[39m==\u001b[39m \u001b[39m\"\u001b[39m\u001b[39mkwargs\u001b[39m\u001b[39m\"\u001b[39m:\n\u001b[0;32m---> 80\u001b[0m     validate_kwargs(fname, kwargs, \u001b[39mself\u001b[39;49m\u001b[39m.\u001b[39;49mdefaults)\n\u001b[1;32m     81\u001b[0m \u001b[39melif\u001b[39;00m method \u001b[39m==\u001b[39m \u001b[39m\"\u001b[39m\u001b[39mboth\u001b[39m\u001b[39m\"\u001b[39m:\n\u001b[1;32m     82\u001b[0m     validate_args_and_kwargs(\n\u001b[1;32m     83\u001b[0m         fname, args, kwargs, max_fname_arg_count, \u001b[39mself\u001b[39m\u001b[39m.\u001b[39mdefaults\n\u001b[1;32m     84\u001b[0m     )\n",
      "File \u001b[0;32m~/miniconda3/envs/foi/lib/python3.9/site-packages/pandas/util/_validators.py:162\u001b[0m, in \u001b[0;36mvalidate_kwargs\u001b[0;34m(fname, kwargs, compat_args)\u001b[0m\n\u001b[1;32m    140\u001b[0m \u001b[39m\u001b[39m\u001b[39m\"\"\"\u001b[39;00m\n\u001b[1;32m    141\u001b[0m \u001b[39mChecks whether parameters passed to the **kwargs argument in a\u001b[39;00m\n\u001b[1;32m    142\u001b[0m \u001b[39mfunction `fname` are valid parameters as specified in `*compat_args`\u001b[39;00m\n\u001b[0;32m   (...)\u001b[0m\n\u001b[1;32m    159\u001b[0m \u001b[39mmap to the default values specified in `compat_args`\u001b[39;00m\n\u001b[1;32m    160\u001b[0m \u001b[39m\"\"\"\u001b[39;00m\n\u001b[1;32m    161\u001b[0m kwds \u001b[39m=\u001b[39m kwargs\u001b[39m.\u001b[39mcopy()\n\u001b[0;32m--> 162\u001b[0m _check_for_invalid_keys(fname, kwargs, compat_args)\n\u001b[1;32m    163\u001b[0m _check_for_default_values(fname, kwds, compat_args)\n",
      "File \u001b[0;32m~/miniconda3/envs/foi/lib/python3.9/site-packages/pandas/util/_validators.py:136\u001b[0m, in \u001b[0;36m_check_for_invalid_keys\u001b[0;34m(fname, kwargs, compat_args)\u001b[0m\n\u001b[1;32m    134\u001b[0m \u001b[39mif\u001b[39;00m diff:\n\u001b[1;32m    135\u001b[0m     bad_arg \u001b[39m=\u001b[39m \u001b[39mlist\u001b[39m(diff)[\u001b[39m0\u001b[39m]\n\u001b[0;32m--> 136\u001b[0m     \u001b[39mraise\u001b[39;00m \u001b[39mTypeError\u001b[39;00m(\u001b[39mf\u001b[39m\u001b[39m\"\u001b[39m\u001b[39m{\u001b[39;00mfname\u001b[39m}\u001b[39;00m\u001b[39m() got an unexpected keyword argument \u001b[39m\u001b[39m'\u001b[39m\u001b[39m{\u001b[39;00mbad_arg\u001b[39m}\u001b[39;00m\u001b[39m'\u001b[39m\u001b[39m\"\u001b[39m)\n",
      "\u001b[0;31mTypeError\u001b[0m: mean() got an unexpected keyword argument 'header'"
     ]
    }
   ],
   "source": [
    "dropdata = data.drop(['Event_ID', 'Fight_ID', 'B_Location', 'B_HomeTown', 'B_ID', 'R_Location', 'R_HomeTown','R_ID','winby','Date', 'winner'], axis=1)\n",
    "dropdata.rename(columns={'BPrev':'B__Prev',\n",
    "                        'RPrev':'R__Prev',\n",
    "                        'B_Age':'B__Age',\n",
    "                        'B_Height':'B__Height',\n",
    "                        'B_Weight':'B__Weight',\n",
    "                        'R_Age':'R__Age',\n",
    "                        'R_Height':'R__Height',\n",
    "                        'R_Weight':'R__Weight',\n",
    "                        'BStreak':'B__Streak',\n",
    "                        'RStreak': 'R__Streak',\n",
    "                        'B_Name': 'B__Name',\n",
    "                        'R_Name': 'R__Name'}, inplace=True)\n",
    "\n",
    "conor = dropdata.loc[ (dropdata['B__Name']  == \"Conor McGregor\")]\n",
    "filtered_columns = conor.filter(regex='^R', axis=1)\n",
    "conorB = conor.drop(filtered_columns.columns, axis=1)\n",
    "\n",
    "conor = dropdata.loc[ (dropdata['R__Name']  == \"Conor McGregor\")]\n",
    "filtered_columns = conor.filter(regex='^B', axis=1)\n",
    "conorR = conor.drop(filtered_columns.columns, axis=1)\n",
    "#conorB\n",
    "#conorR\n",
    "\n",
    "new_columns = {col: col.replace(\"B__\", \"\") for col in conorB.columns if col.startswith(\"B__\")}\n",
    "conorB = conorB.rename(columns=new_columns)\n",
    "\n",
    "new_columns = {col: col.replace(\"R__\", \"\") for col in conorR.columns if col.startswith(\"R__\")}\n",
    "conorR = conorR.rename(columns=new_columns)\n",
    "combined_df = pd.concat([conorB, conorR], ignore_index=True)\n",
    "combined_df = combined_df.drop(['Name'], axis=1)\n",
    "combined_df = combined_df.mean()\n",
    "combined_df\n",
    "combined_df.to_csv('fighters_mean.csv', index=True, header=True)\n"
   ]
  },
  {
   "cell_type": "code",
   "execution_count": 44,
   "metadata": {},
   "outputs": [],
   "source": [
    "#pretvaranje object type columns  u kategorijske tip kolumni    \n",
    "objecttypes = list(dropdata.select_dtypes(include=['O']).columns)\n",
    "for col in objecttypes:\n",
    "    dropdata[col] = dropdata[col].astype('category')\n",
    "\n",
    "cat_columns = dropdata.select_dtypes(['category']).columns\n",
    "dropdata[cat_columns+\"_code\"] = dropdata[cat_columns].apply(lambda x: x.cat.codes)"
   ]
  },
  {
   "cell_type": "code",
   "execution_count": 45,
   "metadata": {},
   "outputs": [],
   "source": [
    "objecttypes = list(dropdata.select_dtypes(include=['float64']).columns)\n",
    "for col in objecttypes:\n",
    "    dropdata[col] = dropdata[col].astype('float32')\n",
    "#dropdata = dropdata.astype(np.float32)"
   ]
  },
  {
   "cell_type": "code",
   "execution_count": null,
   "metadata": {},
   "outputs": [],
   "source": [
    "dropdata.info()\n",
    "dropdata = dropdata.drop(dropdata.columns[-2], axis=1)\n",
    "#dropdata.loc[:,\"winner_code\"]\n",
    "#dropdata.iloc[:,886]"
   ]
  },
  {
   "cell_type": "code",
   "execution_count": 47,
   "metadata": {},
   "outputs": [],
   "source": [
    "dropdata=dropdata[(dropdata[\"winner_code\"] != 1) & (dropdata[\"winner_code\"] != 2)]\n",
    "condition = (dropdata['winner_code'] == 3)\n",
    "# Create a new value for replacement\n",
    "new_value = 1\n",
    "\n",
    "# Update the selected rows with the new value\n",
    "dropdata.loc[condition, 'winner_code'] = new_value"
   ]
  },
  {
   "cell_type": "code",
   "execution_count": 48,
   "metadata": {},
   "outputs": [],
   "source": [
    "#dropdata = data.drop(cat_columns,axis=1)\n",
    "dropdata.to_csv('data_edited.csv', index=False)"
   ]
  },
  {
   "cell_type": "code",
   "execution_count": 52,
   "metadata": {},
   "outputs": [
    {
     "data": {
      "text/plain": [
       "'winner_code'"
      ]
     },
     "execution_count": 52,
     "metadata": {},
     "output_type": "execute_result"
    }
   ],
   "source": [
    "dropdata.columns[883]"
   ]
  },
  {
   "cell_type": "code",
   "execution_count": null,
   "metadata": {},
   "outputs": [],
   "source": [
    "#for feature in data.dtypes[data.dtypes == 'object'].index: \n",
    "df = {'Name': data['B_Location'].value_counts().head(15).index, 'Count': data['B_Location'].value_counts().head(15).values}\n",
    "df = pd.DataFrame(df)\n",
    "sns.countplot(x='winby', data=data) \n",
    "plt.show() "
   ]
  },
  {
   "cell_type": "code",
   "execution_count": null,
   "metadata": {},
   "outputs": [],
   "source": [
    "df = {  'Name': data['B_Location'].value_counts().head(15).index, \n",
    "        'Count': data['B_Location'].value_counts().head(15).values}\n",
    "df = pd.DataFrame(df)\n",
    "sns.barplot(data=df, y='Name', x='Count')\n",
    "plt.show() "
   ]
  },
  {
   "cell_type": "code",
   "execution_count": null,
   "metadata": {},
   "outputs": [],
   "source": [
    "for feature in data.dtypes[data.dtypes == 'object'].index: \n",
    "    sns.countplot(y=feature, data=dropdata) \n",
    "    plt.show() "
   ]
  },
  {
   "cell_type": "code",
   "execution_count": null,
   "metadata": {},
   "outputs": [],
   "source": [
    "sns.countplot(y='winner_code', data=dropdata) \n",
    "plt.show() \n"
   ]
  },
  {
   "cell_type": "code",
   "execution_count": null,
   "metadata": {},
   "outputs": [],
   "source": [
    "#for feature in data.dtypes[data.dtypes == 'object'].index: \n",
    "sns.countplot(y='R__Weight', data=dropdata) \n",
    "sns.countplot(y='B__Weight', data=dropdata) \n",
    "plt.show() "
   ]
  },
  {
   "cell_type": "code",
   "execution_count": null,
   "metadata": {},
   "outputs": [],
   "source": [
    "#Basic Correlation Matrix\n",
    "corrmat = dropdata.corr()\n",
    "f, ax = plt.subplots(figsize=(12, 9))\n",
    "sns.heatmap(corrmat, vmax=.8, square=True)"
   ]
  },
  {
   "cell_type": "code",
   "execution_count": null,
   "metadata": {},
   "outputs": [],
   "source": [
    "# Subset Correlation Matrix\n",
    "k = 10 #number of variables for heatmap\n",
    "corrmat = dropdata.corr()\n",
    "cols = corrmat.nlargest(k, 'winner')['winner'].index\n",
    "cm = np.corrcoef(dropdata[cols].values.T)\n",
    "sns.set(font_scale=1)\n",
    "hm = sns.heatmap(cm, cbar=True, annot=True, square=True, fmt='.2f', annot_kws={'size': 5}, yticklabels=cols.values, xticklabels=cols.values)\n",
    "plt.show()"
   ]
  },
  {
   "cell_type": "code",
   "execution_count": null,
   "metadata": {},
   "outputs": [],
   "source": [
    "Gradient Boosting Classifier was \n",
    "applied with a multinomial deviance loss \n",
    "function and a learning rate of 0.01, \n",
    "producing the following relative variable \n",
    "importances:"
   ]
  },
  {
   "cell_type": "code",
   "execution_count": null,
   "metadata": {},
   "outputs": [],
   "source": [
    "sns.lmplot(x=\"B__Round3_Strikes_Body Significant Strikes_Attempts\", \n",
    "            y=\"B__Round3_Strikes_Body Significant Strikes_Landed\", \n",
    "            col=\"winner\", hue=\"winner\", data=dropdata, col_wrap=2)"
   ]
  }
 ],
 "metadata": {
  "kernelspec": {
   "display_name": "Python 3 (ipykernel)",
   "language": "python",
   "name": "python3"
  },
  "language_info": {
   "codemirror_mode": {
    "name": "ipython",
    "version": 3
   },
   "file_extension": ".py",
   "mimetype": "text/x-python",
   "name": "python",
   "nbconvert_exporter": "python",
   "pygments_lexer": "ipython3",
   "version": "3.9.16"
  },
  "orig_nbformat": 4,
  "vscode": {
   "interpreter": {
    "hash": "2a6af1aa4dddc4b70d90ebbae612199da6182abeea02c55c7c8ac111d317351a"
   }
  }
 },
 "nbformat": 4,
 "nbformat_minor": 2
}
